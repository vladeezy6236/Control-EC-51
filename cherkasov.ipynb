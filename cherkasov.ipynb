{
 "cells": [
  {
   "cell_type": "code",
   "execution_count": 3,
   "metadata": {},
   "outputs": [],
   "source": [
    "# Data Preprocessing Cherkasov V.K"
   ]
  },
  {
   "cell_type": "code",
   "execution_count": 1,
   "metadata": {},
   "outputs": [],
   "source": [
    "# Устанавливаем все необходимые библиотеки для начала работы.\n",
    "import numpy as np\n",
    "import matplotlib.pyplot as plt\n",
    "import pandas as pd"
   ]
  },
  {
   "cell_type": "code",
   "execution_count": 2,
   "metadata": {},
   "outputs": [],
   "source": [
    "# Загружаем наш датасет\n",
    "mk = pd.read_csv('rofl.csv', sep=',')\n"
   ]
  },
  {
   "cell_type": "code",
   "execution_count": 3,
   "metadata": {},
   "outputs": [
    {
     "data": {
      "text/html": [
       "<div>\n",
       "<style scoped>\n",
       "    .dataframe tbody tr th:only-of-type {\n",
       "        vertical-align: middle;\n",
       "    }\n",
       "\n",
       "    .dataframe tbody tr th {\n",
       "        vertical-align: top;\n",
       "    }\n",
       "\n",
       "    .dataframe thead th {\n",
       "        text-align: right;\n",
       "    }\n",
       "</style>\n",
       "<table border=\"1\" class=\"dataframe\">\n",
       "  <thead>\n",
       "    <tr style=\"text-align: right;\">\n",
       "      <th></th>\n",
       "      <th>Wind_direction</th>\n",
       "      <th>Pressure</th>\n",
       "      <th>Humidity</th>\n",
       "      <th>Temperature</th>\n",
       "    </tr>\n",
       "  </thead>\n",
       "  <tbody>\n",
       "    <tr>\n",
       "      <th>0</th>\n",
       "      <td>301.9</td>\n",
       "      <td>885.2</td>\n",
       "      <td>91.3</td>\n",
       "      <td>-3.0</td>\n",
       "    </tr>\n",
       "    <tr>\n",
       "      <th>1</th>\n",
       "      <td>301.2</td>\n",
       "      <td>887.8</td>\n",
       "      <td>91.1</td>\n",
       "      <td>-3.0</td>\n",
       "    </tr>\n",
       "    <tr>\n",
       "      <th>2</th>\n",
       "      <td>300.8</td>\n",
       "      <td>893.7</td>\n",
       "      <td>91.2</td>\n",
       "      <td>-2.8</td>\n",
       "    </tr>\n",
       "    <tr>\n",
       "      <th>3</th>\n",
       "      <td>297.6</td>\n",
       "      <td>904.0</td>\n",
       "      <td>90.7</td>\n",
       "      <td>-2.7</td>\n",
       "    </tr>\n",
       "    <tr>\n",
       "      <th>4</th>\n",
       "      <td>304.5</td>\n",
       "      <td>903.2</td>\n",
       "      <td>91.5</td>\n",
       "      <td>-2.6</td>\n",
       "    </tr>\n",
       "    <tr>\n",
       "      <th>...</th>\n",
       "      <td>...</td>\n",
       "      <td>...</td>\n",
       "      <td>...</td>\n",
       "      <td>...</td>\n",
       "    </tr>\n",
       "    <tr>\n",
       "      <th>3383</th>\n",
       "      <td>61.7</td>\n",
       "      <td>910.8</td>\n",
       "      <td>53.3</td>\n",
       "      <td>12.3</td>\n",
       "    </tr>\n",
       "    <tr>\n",
       "      <th>3384</th>\n",
       "      <td>62.1</td>\n",
       "      <td>910.3</td>\n",
       "      <td>53.0</td>\n",
       "      <td>12.6</td>\n",
       "    </tr>\n",
       "    <tr>\n",
       "      <th>3385</th>\n",
       "      <td>46.6</td>\n",
       "      <td>910.4</td>\n",
       "      <td>52.0</td>\n",
       "      <td>13.2</td>\n",
       "    </tr>\n",
       "    <tr>\n",
       "      <th>3386</th>\n",
       "      <td>64.4</td>\n",
       "      <td>910.8</td>\n",
       "      <td>51.6</td>\n",
       "      <td>13.4</td>\n",
       "    </tr>\n",
       "    <tr>\n",
       "      <th>3387</th>\n",
       "      <td>74.3</td>\n",
       "      <td>908.9</td>\n",
       "      <td>51.4</td>\n",
       "      <td>13.5</td>\n",
       "    </tr>\n",
       "  </tbody>\n",
       "</table>\n",
       "<p>3388 rows × 4 columns</p>\n",
       "</div>"
      ],
      "text/plain": [
       "      Wind_direction  Pressure  Humidity  Temperature\n",
       "0              301.9     885.2      91.3         -3.0\n",
       "1              301.2     887.8      91.1         -3.0\n",
       "2              300.8     893.7      91.2         -2.8\n",
       "3              297.6     904.0      90.7         -2.7\n",
       "4              304.5     903.2      91.5         -2.6\n",
       "...              ...       ...       ...          ...\n",
       "3383            61.7     910.8      53.3         12.3\n",
       "3384            62.1     910.3      53.0         12.6\n",
       "3385            46.6     910.4      52.0         13.2\n",
       "3386            64.4     910.8      51.6         13.4\n",
       "3387            74.3     908.9      51.4         13.5\n",
       "\n",
       "[3388 rows x 4 columns]"
      ]
     },
     "execution_count": 3,
     "metadata": {},
     "output_type": "execute_result"
    }
   ],
   "source": [
    "mk"
   ]
  },
  {
   "cell_type": "code",
   "execution_count": 4,
   "metadata": {},
   "outputs": [
    {
     "data": {
      "text/html": [
       "<div>\n",
       "<style scoped>\n",
       "    .dataframe tbody tr th:only-of-type {\n",
       "        vertical-align: middle;\n",
       "    }\n",
       "\n",
       "    .dataframe tbody tr th {\n",
       "        vertical-align: top;\n",
       "    }\n",
       "\n",
       "    .dataframe thead th {\n",
       "        text-align: right;\n",
       "    }\n",
       "</style>\n",
       "<table border=\"1\" class=\"dataframe\">\n",
       "  <thead>\n",
       "    <tr style=\"text-align: right;\">\n",
       "      <th></th>\n",
       "      <th>Wind_direction</th>\n",
       "      <th>Pressure</th>\n",
       "      <th>Humidity</th>\n",
       "      <th>Temperature</th>\n",
       "    </tr>\n",
       "  </thead>\n",
       "  <tbody>\n",
       "    <tr>\n",
       "      <th>count</th>\n",
       "      <td>3388.000000</td>\n",
       "      <td>3388.000000</td>\n",
       "      <td>3388.000000</td>\n",
       "      <td>3388.000000</td>\n",
       "    </tr>\n",
       "    <tr>\n",
       "      <th>mean</th>\n",
       "      <td>190.921547</td>\n",
       "      <td>896.513282</td>\n",
       "      <td>60.929988</td>\n",
       "      <td>-0.261216</td>\n",
       "    </tr>\n",
       "    <tr>\n",
       "      <th>std</th>\n",
       "      <td>99.982734</td>\n",
       "      <td>15.620523</td>\n",
       "      <td>20.765840</td>\n",
       "      <td>3.931768</td>\n",
       "    </tr>\n",
       "    <tr>\n",
       "      <th>min</th>\n",
       "      <td>17.200000</td>\n",
       "      <td>879.500000</td>\n",
       "      <td>20.200000</td>\n",
       "      <td>-8.500000</td>\n",
       "    </tr>\n",
       "    <tr>\n",
       "      <th>25%</th>\n",
       "      <td>93.000000</td>\n",
       "      <td>884.400000</td>\n",
       "      <td>44.700000</td>\n",
       "      <td>-3.100000</td>\n",
       "    </tr>\n",
       "    <tr>\n",
       "      <th>50%</th>\n",
       "      <td>126.300000</td>\n",
       "      <td>887.800000</td>\n",
       "      <td>60.400000</td>\n",
       "      <td>-1.000000</td>\n",
       "    </tr>\n",
       "    <tr>\n",
       "      <th>75%</th>\n",
       "      <td>294.000000</td>\n",
       "      <td>914.600000</td>\n",
       "      <td>73.225000</td>\n",
       "      <td>2.100000</td>\n",
       "    </tr>\n",
       "    <tr>\n",
       "      <th>max</th>\n",
       "      <td>352.900000</td>\n",
       "      <td>939.000000</td>\n",
       "      <td>99.400000</td>\n",
       "      <td>13.500000</td>\n",
       "    </tr>\n",
       "  </tbody>\n",
       "</table>\n",
       "</div>"
      ],
      "text/plain": [
       "       Wind_direction     Pressure     Humidity  Temperature\n",
       "count     3388.000000  3388.000000  3388.000000  3388.000000\n",
       "mean       190.921547   896.513282    60.929988    -0.261216\n",
       "std         99.982734    15.620523    20.765840     3.931768\n",
       "min         17.200000   879.500000    20.200000    -8.500000\n",
       "25%         93.000000   884.400000    44.700000    -3.100000\n",
       "50%        126.300000   887.800000    60.400000    -1.000000\n",
       "75%        294.000000   914.600000    73.225000     2.100000\n",
       "max        352.900000   939.000000    99.400000    13.500000"
      ]
     },
     "execution_count": 4,
     "metadata": {},
     "output_type": "execute_result"
    }
   ],
   "source": [
    "# Смотрим статистику нашего датасета\n",
    "mk.describe()"
   ]
  },
  {
   "cell_type": "code",
   "execution_count": 5,
   "metadata": {},
   "outputs": [
    {
     "data": {
      "text/plain": [
       "(array([301.9, 301.2, 300.8, ...,  62.1,  46.6,  64.4]),\n",
       " array([-3. , -2.8, -2.7, -2.6, -2.4, -2.1, -1.7, -1.1, -0.9, -0.7, -0.4,\n",
       "        -0.2,  0. ,  0.4,  0.6,  1. ,  1.2,  1.9,  1.6,  2.2,  2.1,  2.4,\n",
       "         2.6,  2.9,  2.7,  2.5,  2.3,  2. ,  1.8,  1.7,  1.5,  1.3,  1.1,\n",
       "         0.9,  0.8,  0.5,  0.2,  0.3, -0.3, -0.8, -1. , -1.3, -1.4, -0.6,\n",
       "        -1.2, -1.5, -2. , -1.6, -1.9, -2.3, -1.8, -0.1,  0.7,  1.4,  3. ,\n",
       "         3.3,  3.6,  3.4,  3.8,  4. ,  3.9,  4.4,  4.3,  4.2,  3.7,  0.1,\n",
       "         3.1,  3.5,  4.6,  4.9,  5.3,  5.6,  6.2,  6.8,  6.7,  6.6,  7.1,\n",
       "         7. ,  7.2,  7.3,  6.9,  6.4,  6.3,  5.9,  5.4,  5. ,  4.8,  2.8,\n",
       "        -2.2, -2.5, -2.9, -3.1, -3.2, -3.3, -3.5, -3.7, -3.8, -3.9, -4. ,\n",
       "        -4.2, -4.3, -4.4, -4.5, -4.6, -4.7, -4.8, -5. , -5.1, -5.2, -5.3,\n",
       "        -0.5, -3.4, -3.6, -4.1, -4.9, -5.5, -5.6, -5.8, -5.9, -6.2, -6.5,\n",
       "        -6.3, -6.1, -6.4, -6.6, -6.9, -7.2, -7.1, -7.4, -7. , -7.3, -7.9,\n",
       "        -8. , -7.8, -7.7, -8.1, -8.2, -8.3, -8.5, -7.6, -6.7, -5.4,  3.2,\n",
       "         5.7,  5.5,  5.2,  5.1,  4.1,  6. ,  6.5,  4.7,  5.8,  6.1,  4.5,\n",
       "        -5.7, -7.5, -8.4, -6.8, -6. ,  7.7,  7.5,  8.1,  7.9,  8.4,  8.5,\n",
       "         8.6,  9. ,  9.2,  9.3,  9.5,  9.1,  8.7,  8.3,  8. ,  7.4,  8.8,\n",
       "         9.4,  9.7,  9.6,  9.9, 10.4, 10.5, 10.7, 10.9, 11.1, 10.8, 10.1,\n",
       "        11.3, 10.6, 11. , 10.3,  8.2,  7.6,  7.8,  8.9, 11.8, 12.1, 12.3,\n",
       "        12.6, 13.2, 13.4, 13.5]),\n",
       " array([91.3, 91.1, 91.2, 90.7, 91.5, 90.5, 89.4, 87. , 83.9, 81.5, 80.1,\n",
       "        78.8, 75.3, 75.1, 74.3, 72.4, 67.9, 65.5, 64.9, 59.7, 59.6, 57.2,\n",
       "        56.3, 54.6, 53.8, 55.3, 50.9, 50.2, 50. , 46.3, 45.9, 46.9, 49.6,\n",
       "        49.7, 50.8, 51.9, 51.4, 52.6, 54. , 53.9, 53.6, 54.9, 56.7, 58.1,\n",
       "        60.4, 62.4, 63.8, 65.3, 65.6, 66.5, 67.8, 69.6, 67.4, 68.6, 68.4,\n",
       "        69.3, 70.3, 70.9, 71.1, 71.2, 72.7, 73.2, 73.8, 72.3, 71.4, 71.6,\n",
       "        70.7, 69.1, 67.7, 70. , 70.4, 69.2, 68.5, 68.8, 66.6, 65. , 67.5,\n",
       "        67.6, 69. , 67.2, 64.5, 67.1, 67.3, 68.1, 69.8, 72. , 70.5, 63.2,\n",
       "        59. , 57.1, 56.6, 55.7, 51.6, 53. , 53.7, 50.6, 49.8, 49.9, 48.6,\n",
       "        44.4, 43.2, 44.3, 43.1, 41.1, 40.3, 40.8, 39.3, 40. , 40.5, 41.5,\n",
       "        41.7, 41.4, 40.6, 40.1, 39.8, 43. , 44.6, 45.4, 44.9, 44.8, 41.6,\n",
       "        40.9, 41.3, 42.3, 38.9, 38.7, 39.4, 41.8, 42.8, 43.6, 43.9, 45.5,\n",
       "        46. , 45.3, 42. , 43.5, 46.1, 46.8, 47.5, 47.9, 47.3, 47.8, 47.2,\n",
       "        47. , 46.4, 46.5, 45.6, 44.5, 46.2, 45.8, 45.7, 46.6, 48.1, 49.1,\n",
       "        49.2, 44.7, 44.1, 43.7, 45. , 38.6, 37.3, 35.7, 34.1, 31.8, 30.8,\n",
       "        26.7, 26. , 25.8, 25.6, 24.3, 24.4, 24.5, 26.6, 25.5, 27.2, 27.8,\n",
       "        27.6, 26.8, 26.1, 26.4, 28.2, 43.4, 42.5, 56.5, 61.2, 63.1, 62.8,\n",
       "        64.1, 65.1, 66.2, 68. , 70.2, 71.9, 74.1, 76.5, 77.7, 78.9, 79.7,\n",
       "        81.3, 83. , 84.3, 84.7, 84.4, 85. , 85.4, 85.2, 85.3, 84.5, 84.6,\n",
       "        85.1, 85.8, 86.3, 86.9, 86.5, 86.2, 83.2, 82.6, 81.6, 79.9, 78. ,\n",
       "        77.1, 74.4, 71. , 68.3, 67. , 68.2, 69.7, 66. , 65.7, 64. , 63.9,\n",
       "        62.1, 60.7, 61.8, 60. , 58.8, 58.3, 57.3, 58.9, 60.1, 61. , 61.1,\n",
       "        62. , 63.5, 64.8, 65.8, 68.9, 66.1, 64.2, 64.7, 65.4, 66.7, 68.7,\n",
       "        69.5, 71.3, 72.2, 72.5, 74.2, 73.5, 73. , 71.5, 71.7, 73.4, 72.8,\n",
       "        66.3, 65.9, 62.2, 61.3, 60.2, 59.1, 59.8, 60.5, 60.6, 61.5, 59.9,\n",
       "        59.3, 59.4, 58.7, 59.5, 60.3, 58.2, 57.6, 59.2, 57.8, 57. , 58. ,\n",
       "        58.6, 61.9, 62.7, 63. , 61.6, 62.6, 62.5, 55. , 60.9, 53.5, 61.7,\n",
       "        62.3, 74. , 76.1, 75.2, 73.1, 71.8, 72.1, 56. , 55.9, 56.2, 56.9,\n",
       "        57.4, 57.7, 61.4, 69.4, 73.3, 75.5, 77.9, 75.8, 76.8, 79.5, 80.6,\n",
       "        81.1, 78.6, 79.1, 78.7, 79.4, 81. , 81.8, 82.3, 82.1, 83.7, 82. ,\n",
       "        82.9, 88. , 89.5, 91.7, 87.9, 88.7, 87.1, 86.6, 89.9, 90.1, 90.2,\n",
       "        91.8, 88.4, 79.2, 56.1, 51.8, 51.1, 43.3, 41.9, 40.7, 41.2, 43.8,\n",
       "        75.4, 77.6, 79. , 78.5, 79.3, 80.3, 81.7, 82.2, 84. , 93.8, 96. ,\n",
       "        97.6, 98.2, 97.9, 98.4, 99.3, 96.9, 98.3, 99.4, 92.4, 85.7, 78.3,\n",
       "        52.8, 47.6, 40.2, 38.1, 37.4, 35.3, 32. , 31.3, 30. , 29.3, 27.4,\n",
       "        26.2, 25.9, 25.7, 27.7, 28.1, 28.3, 29.4, 29.9, 30.3, 32.2, 32.4,\n",
       "        33.5, 33.7, 34.4, 32.9, 33.6, 33.9, 32.3, 31.1, 31.2, 30.7, 37.6,\n",
       "        37.9, 38.5, 38.2, 37.7, 37.1, 37.8, 36.5, 36.4, 36.3, 35.8, 36. ,\n",
       "        38.4, 38. , 40.4, 39.9, 36.9, 39. , 35.5, 36.2, 35.6, 34.2, 33.3,\n",
       "        30.2, 29.7, 22.7, 23.5, 25.4, 24. , 24.2, 24.8, 24.7, 25.1, 26.5,\n",
       "        28.6, 29.1, 29.5, 30.1, 31.5, 31.9, 35.9, 35. , 34.3, 34.7, 34.8,\n",
       "        45.2, 49.5, 52.7, 53.1, 55.1, 52.2, 53.2, 54.3, 54.5, 53.4, 52.5,\n",
       "        51.2, 49. , 44.2, 37.2, 34.6, 34. , 33.1, 32.7, 27.5, 26.3, 27. ,\n",
       "        25.2, 24.6, 26.9, 27.3, 28.8, 29. , 28.5, 29.8, 29.2, 28.7, 30.9,\n",
       "        28. , 27.1, 25.3, 35.1, 35.4, 37.5, 36.7, 33.2, 41. , 39.6, 42.7,\n",
       "        38.3, 36.8, 30.5, 25. , 23. , 22.4, 23.1, 24.9, 39.5, 48.5, 55.6,\n",
       "        55.4, 57.9, 58.4, 60.8, 62.9, 63.7, 64.6, 66.4, 66.8, 63.3, 50.1,\n",
       "        49.4, 48.9, 50.3, 50.5, 54.2, 56.8, 63.6, 66.9, 74.7, 75.9, 77.2,\n",
       "        76.2, 75.6, 80.5, 82.5, 83.3, 87.4, 87.2, 88.9, 90.9, 92.1, 92.3,\n",
       "        93.1, 95.5, 96.8, 98.1, 96.1, 93.2, 89.2, 87.3, 85.9, 83.6, 78.2,\n",
       "        77.4, 74.9, 74.5, 72.9, 73.9, 74.8, 76.4, 77. , 77.8, 79.8, 79.6,\n",
       "        81.9, 80.7, 80.4, 76.9, 75.7, 75. , 76.3, 82.8, 55.8, 57.5, 64.4,\n",
       "        80.2, 81.4, 83.5, 87.7, 87.6, 87.5, 89.8, 91.9, 94.1, 93.9, 94.6,\n",
       "        94.7, 93.3, 88.6, 84.9, 84.1, 86. , 39.1, 34.9, 34.5, 33. , 35.2,\n",
       "        36.6, 37. , 36.1, 48.8, 52.4, 55.2, 56.4, 55.5, 53.3, 52. , 51.7,\n",
       "        49.3, 48.7, 48. , 48.3, 54.1, 54.7, 69.9, 70.6, 70.8, 70.1, 76.6,\n",
       "        86.4, 87.8, 88.5, 83.4, 77.3, 77.5, 78.4, 78.1, 52.9, 48.2, 45.1,\n",
       "        42.1, 31.4, 31. , 28.4, 24.1, 22. , 21.1, 20.9, 21.9, 20.2, 21.2,\n",
       "        21.7, 21.3, 22.3, 22.2, 23.6, 23.9, 23.8, 73.6, 54.4, 44. , 42.9,\n",
       "        42.4, 46.7, 47.4, 50.4, 52.1, 54.8, 64.3, 76.7, 65.2, 72.6, 48.4,\n",
       "        63.4, 47.7, 47.1, 50.7, 51.5, 51.3, 85.6, 97.3, 90. , 95.6, 99.1,\n",
       "        94.8, 76. , 83.8, 96.6, 95.8, 90.8, 86.7, 82.4, 74.6, 90.4, 95.4,\n",
       "        98.8, 96.5, 42.6, 39.7, 38.8, 30.6, 32.5, 32.8, 31.6, 31.7, 33.4,\n",
       "        39.2, 42.2, 58.5, 51. , 73.7]),\n",
       " array([885.2, 887.8, 893.7, 904. , 903.2, 906.1, 908.7, 935.3, 934.8,\n",
       "        918.7, 915.8, 921.3, 918.2, 919.4, 919.2, 918.4, 917.1, 917.2,\n",
       "        917.4, 916.5, 917.6, 916.9, 916.3, 917.7, 916.7, 916.6, 917.3,\n",
       "        917.9, 908.3, 899.5, 894.3, 891.9, 891. , 890.5, 890.2, 889.8,\n",
       "        889.6, 889.4, 889.1, 889. , 888.7, 888.6, 888.4, 888.2, 888. ,\n",
       "        887.9, 887.7, 887.5, 887.3, 887.2, 887. , 886.9, 886.7, 886.6,\n",
       "        886.5, 886.4, 886.3, 886.1, 886. , 885.9, 885.8, 885.5, 885.3,\n",
       "        885.1, 884.9, 884.8, 884.7, 884.5, 884.4, 884.3, 884.1, 884. ,\n",
       "        883.9, 883.8, 883.7, 883.6, 883.5, 895.7, 919.5, 935. , 935.1,\n",
       "        920. , 921.1, 920.1, 918.9, 918.3, 917.8, 918.8, 918.5, 919.7,\n",
       "        916.2, 916.4, 919.1, 915.4, 916.1, 916. , 917. , 915.5, 901.4,\n",
       "        895.3, 892.1, 888.9, 886.8, 886.2, 885.7, 885.4, 884.2, 883.3,\n",
       "        885. , 899.3, 912.7, 931.5, 931.9, 920.6, 916.8, 915.7, 915.3,\n",
       "        914. , 914.5, 915.6, 914.9, 915.1, 914.3, 914.7, 913. , 913.8,\n",
       "        914.4, 913.5, 914.2, 914.1, 896.7, 892.7, 891.3, 890.7, 890.3,\n",
       "        889.9, 889.7, 888.5, 888.3, 887.4, 884.6, 883.4, 883.2, 883. ,\n",
       "        882.9, 882.7, 882.6, 882.5, 882.3, 894.5, 911.1, 929.4, 936.2,\n",
       "        931.6, 922.8, 922.2, 922.7, 921.9, 919.3, 919.9, 919.6, 918.6,\n",
       "        918. , 918.1, 908.8, 905. , 898.9, 893.5, 891.1, 889.5, 888.8,\n",
       "        888.1, 887.1, 883.1, 882.2, 882.1, 882. , 881.9, 881.8, 881.7,\n",
       "        881.6, 881.5, 885.6, 899.9, 903. , 935.5, 937. , 928.2, 921.2,\n",
       "        920.2, 920.8, 921.6, 922. , 920.5, 919. , 906.2, 900.7, 896.1,\n",
       "        893.2, 891.4, 890.4, 889.2, 887.6, 891.8, 901.6, 911.9, 931.1,\n",
       "        935.4, 934.5, 919.8, 920.9, 909.2, 907.2, 903.7, 900.2, 897. ,\n",
       "        893.9, 882.4, 894.8, 908. , 921.8, 917.5, 915.9, 903.9, 897.9,\n",
       "        893.1, 891.2, 890.1, 890.6, 896.5, 900.4, 902.4, 903.8, 907.3,\n",
       "        907.7, 909.8, 911.5, 901.5, 902. , 901.3, 900.3, 899.2, 898.3,\n",
       "        895.6, 890. , 882.8, 881.4, 881.3, 881.2, 881.1, 910.2, 932.7,\n",
       "        933.4, 921.4, 921.7, 922.9, 921. , 920.4, 922.1, 905.3, 897.7,\n",
       "        893. , 898.7, 923. , 938.6, 938.8, 924.4, 923.5, 924. , 922.4,\n",
       "        921.5, 908.6, 900.5, 891.5, 936.4, 922.3, 907.6, 899.7, 893.8,\n",
       "        889.3, 898. , 912.2, 934.9, 934.7, 926.8, 915.2, 915. , 914.8,\n",
       "        899.8, 894. , 926.1, 936.1, 936.5, 910.5, 902.9, 892.2, 894.6,\n",
       "        897.5, 904.7, 909.5, 907.5, 910.1, 935.7, 920.7, 912.1, 892.9,\n",
       "        890.8, 881. , 880.9, 880.8, 880.7, 880.6, 880.5, 897.4, 925.1,\n",
       "        913.6, 913.7, 913.9, 913.4, 913.2, 912.9, 912.6, 914.6, 905.1,\n",
       "        898.4, 893.3, 892.4, 900. , 907.4, 932. , 932.5, 908.2, 890.9,\n",
       "        895.2, 912.3, 925.2, 906.3, 892.8, 904.1, 904.9, 905.5, 903.5,\n",
       "        894.9, 893.6, 892.3, 895. , 905.7, 930.9, 931.8, 912.4, 901.1,\n",
       "        923.6, 939. , 938.5, 924.2, 923.8, 923.4, 923.1, 922.6, 905.4,\n",
       "        923.3, 936.6, 903.4, 892.6, 901.7, 934.1, 897.2, 906.4, 908.4,\n",
       "        925.8, 929.9, 906.7, 904.6, 903.1, 897.8, 910.6, 929. , 935.6,\n",
       "        920.3, 913.3, 911.7, 902.1, 895.8, 898.6, 932.3, 909.6, 912.8,\n",
       "        913.1, 912. , 911.8, 912.5, 897.1, 892.5, 896.4, 903.6, 932.1,\n",
       "        931.4, 896. , 897.3, 898.8, 897.6, 896.8, 900.9, 899. , 894.4,\n",
       "        880.4, 880.3, 880.2, 880.1, 880. , 879.9, 891.6, 901. , 907.8,\n",
       "        905.2, 908.5, 905.9, 902.6, 899.6, 895.5, 895.4, 879.8, 879.7,\n",
       "        879.6, 879.5, 901.8, 925.6, 925.3, 924.7, 931.3, 927.7, 929.8,\n",
       "        907.1, 900.8, 936. , 905.6, 924.5, 924.3, 924.6, 892. , 936.7,\n",
       "        922.5, 934.6, 933.9, 902.8, 894.7, 904.4, 930.5, 929.5, 910.9,\n",
       "        911.3, 910.7, 911.6, 911.2, 904.3, 910.8, 911.4, 905.8, 904.8,\n",
       "        930.4, 930. , 899.4, 929.6, 911. , 910.3, 910.4, 908.9]))"
      ]
     },
     "execution_count": 5,
     "metadata": {},
     "output_type": "execute_result"
    }
   ],
   "source": [
    "# Проверяем наши данные на наличие пропусков\n",
    "mk['Wind_direction'].unique(), mk['Temperature'].unique(), mk['Humidity'].unique() , mk['Pressure'].unique()"
   ]
  },
  {
   "cell_type": "code",
   "execution_count": 6,
   "metadata": {},
   "outputs": [],
   "source": [
    "# Проверяем наш дата сет на наличие выбросов и избавляемся от них.\n",
    "def outliers(mk):\n",
    "    num_var = list(mk._get_numeric_data().columns)\n",
    "    for col_names in num_var:\n",
    "        mk[col_names] = mk[col_names].apply(lambda y: mk[col_names].mean()-3*mk[col_names].std() \n",
    "                            if y < mk[col_names].mean()-3*mk[col_names].std() else y)\n",
    "        mk[col_names] = mk[col_names].apply(lambda y: mk[col_names].mean()+3*mk[col_names].std() \n",
    "                            if y > mk[col_names].mean()+3*mk[col_names].std() else y)\n",
    "    return(mk)"
   ]
  },
  {
   "cell_type": "code",
   "execution_count": 7,
   "metadata": {},
   "outputs": [
    {
     "data": {
      "text/html": [
       "<div>\n",
       "<style scoped>\n",
       "    .dataframe tbody tr th:only-of-type {\n",
       "        vertical-align: middle;\n",
       "    }\n",
       "\n",
       "    .dataframe tbody tr th {\n",
       "        vertical-align: top;\n",
       "    }\n",
       "\n",
       "    .dataframe thead th {\n",
       "        text-align: right;\n",
       "    }\n",
       "</style>\n",
       "<table border=\"1\" class=\"dataframe\">\n",
       "  <thead>\n",
       "    <tr style=\"text-align: right;\">\n",
       "      <th></th>\n",
       "      <th>Wind_direction</th>\n",
       "      <th>Pressure</th>\n",
       "      <th>Humidity</th>\n",
       "      <th>Temperature</th>\n",
       "    </tr>\n",
       "  </thead>\n",
       "  <tbody>\n",
       "    <tr>\n",
       "      <th>count</th>\n",
       "      <td>3388.000000</td>\n",
       "      <td>3388.000000</td>\n",
       "      <td>3388.000000</td>\n",
       "      <td>3388.000000</td>\n",
       "    </tr>\n",
       "    <tr>\n",
       "      <th>mean</th>\n",
       "      <td>190.921547</td>\n",
       "      <td>896.513282</td>\n",
       "      <td>60.929988</td>\n",
       "      <td>-0.263703</td>\n",
       "    </tr>\n",
       "    <tr>\n",
       "      <th>std</th>\n",
       "      <td>99.982734</td>\n",
       "      <td>15.620523</td>\n",
       "      <td>20.765840</td>\n",
       "      <td>3.923832</td>\n",
       "    </tr>\n",
       "    <tr>\n",
       "      <th>min</th>\n",
       "      <td>17.200000</td>\n",
       "      <td>879.500000</td>\n",
       "      <td>20.200000</td>\n",
       "      <td>-8.500000</td>\n",
       "    </tr>\n",
       "    <tr>\n",
       "      <th>25%</th>\n",
       "      <td>93.000000</td>\n",
       "      <td>884.400000</td>\n",
       "      <td>44.700000</td>\n",
       "      <td>-3.100000</td>\n",
       "    </tr>\n",
       "    <tr>\n",
       "      <th>50%</th>\n",
       "      <td>126.300000</td>\n",
       "      <td>887.800000</td>\n",
       "      <td>60.400000</td>\n",
       "      <td>-1.000000</td>\n",
       "    </tr>\n",
       "    <tr>\n",
       "      <th>75%</th>\n",
       "      <td>294.000000</td>\n",
       "      <td>914.600000</td>\n",
       "      <td>73.225000</td>\n",
       "      <td>2.100000</td>\n",
       "    </tr>\n",
       "    <tr>\n",
       "      <th>max</th>\n",
       "      <td>352.900000</td>\n",
       "      <td>939.000000</td>\n",
       "      <td>99.400000</td>\n",
       "      <td>11.534087</td>\n",
       "    </tr>\n",
       "  </tbody>\n",
       "</table>\n",
       "</div>"
      ],
      "text/plain": [
       "       Wind_direction     Pressure     Humidity  Temperature\n",
       "count     3388.000000  3388.000000  3388.000000  3388.000000\n",
       "mean       190.921547   896.513282    60.929988    -0.263703\n",
       "std         99.982734    15.620523    20.765840     3.923832\n",
       "min         17.200000   879.500000    20.200000    -8.500000\n",
       "25%         93.000000   884.400000    44.700000    -3.100000\n",
       "50%        126.300000   887.800000    60.400000    -1.000000\n",
       "75%        294.000000   914.600000    73.225000     2.100000\n",
       "max        352.900000   939.000000    99.400000    11.534087"
      ]
     },
     "execution_count": 7,
     "metadata": {},
     "output_type": "execute_result"
    }
   ],
   "source": [
    "# Повторно смотрим на статистику датасета. Как итог, после преобразований ничего не изменилось, что означает, что выбросов не было\n",
    "mk = outliers(mk)\n",
    "mk.describe()"
   ]
  },
  {
   "cell_type": "code",
   "execution_count": 8,
   "metadata": {},
   "outputs": [
    {
     "data": {
      "text/plain": [
       "<matplotlib.axes._subplots.AxesSubplot at 0x288ed7e6070>"
      ]
     },
     "execution_count": 8,
     "metadata": {},
     "output_type": "execute_result"
    },
    {
     "data": {
      "image/png": "[encoded data removed]",
      "text/plain": [
       "<Figure size 432x288 with 1 Axes>"
      ]
     },
     "metadata": {
      "needs_background": "light"
     },
     "output_type": "display_data"
    }
   ],
   "source": [
    "# Построим гистаграмы по каждой из переменных\n",
    "mk['Wind_direction'].plot(kind = 'hist')"
   ]
  },
  {
   "cell_type": "code",
   "execution_count": 9,
   "metadata": {},
   "outputs": [
    {
     "data": {
      "text/plain": [
       "<matplotlib.axes._subplots.AxesSubplot at 0x288edf47f10>"
      ]
     },
     "execution_count": 9,
     "metadata": {},
     "output_type": "execute_result"
    },
    {
     "data": {
      "image/png": "[encoded data removed]",
      "text/plain": [
       "<Figure size 432x288 with 1 Axes>"
      ]
     },
     "metadata": {
      "needs_background": "light"
     },
     "output_type": "display_data"
    }
   ],
   "source": [
    "mk['Temperature'].plot(kind = 'hist')"
   ]
  },
  {
   "cell_type": "code",
   "execution_count": 10,
   "metadata": {},
   "outputs": [
    {
     "data": {
      "text/plain": [
       "<matplotlib.axes._subplots.AxesSubplot at 0x288edfdfa90>"
      ]
     },
     "execution_count": 10,
     "metadata": {},
     "output_type": "execute_result"
    },
    {
     "data": {
      "image/png": "[encoded data removed]",
      "text/plain": [
       "<Figure size 432x288 with 1 Axes>"
      ]
     },
     "metadata": {
      "needs_background": "light"
     },
     "output_type": "display_data"
    }
   ],
   "source": [
    "mk['Pressure'].plot(kind = 'hist')"
   ]
  },
  {
   "cell_type": "code",
   "execution_count": 11,
   "metadata": {},
   "outputs": [
    {
     "data": {
      "text/plain": [
       "<matplotlib.axes._subplots.AxesSubplot at 0x288ee0470d0>"
      ]
     },
     "execution_count": 11,
     "metadata": {},
     "output_type": "execute_result"
    },
    {
     "data": {
      "image/png": "[encoded data removed]",
      "text/plain": [
       "<Figure size 432x288 with 1 Axes>"
      ]
     },
     "metadata": {
      "needs_background": "light"
     },
     "output_type": "display_data"
    }
   ],
   "source": [
    "mk['Humidity'].plot(kind = 'hist')"
   ]
  },
  {
   "cell_type": "code",
   "execution_count": 12,
   "metadata": {},
   "outputs": [
    {
     "data": {
      "text/html": [
       "<div>\n",
       "<style scoped>\n",
       "    .dataframe tbody tr th:only-of-type {\n",
       "        vertical-align: middle;\n",
       "    }\n",
       "\n",
       "    .dataframe tbody tr th {\n",
       "        vertical-align: top;\n",
       "    }\n",
       "\n",
       "    .dataframe thead th {\n",
       "        text-align: right;\n",
       "    }\n",
       "</style>\n",
       "<table border=\"1\" class=\"dataframe\">\n",
       "  <thead>\n",
       "    <tr style=\"text-align: right;\">\n",
       "      <th></th>\n",
       "      <th>Wind_direction</th>\n",
       "      <th>Pressure</th>\n",
       "      <th>Humidity</th>\n",
       "      <th>Temperature</th>\n",
       "    </tr>\n",
       "  </thead>\n",
       "  <tbody>\n",
       "    <tr>\n",
       "      <th>Wind_direction</th>\n",
       "      <td>1.000000</td>\n",
       "      <td>0.147581</td>\n",
       "      <td>-0.359865</td>\n",
       "      <td>0.066964</td>\n",
       "    </tr>\n",
       "    <tr>\n",
       "      <th>Pressure</th>\n",
       "      <td>0.147581</td>\n",
       "      <td>1.000000</td>\n",
       "      <td>-0.312852</td>\n",
       "      <td>0.271711</td>\n",
       "    </tr>\n",
       "    <tr>\n",
       "      <th>Humidity</th>\n",
       "      <td>-0.359865</td>\n",
       "      <td>-0.312852</td>\n",
       "      <td>1.000000</td>\n",
       "      <td>-0.336484</td>\n",
       "    </tr>\n",
       "    <tr>\n",
       "      <th>Temperature</th>\n",
       "      <td>0.066964</td>\n",
       "      <td>0.271711</td>\n",
       "      <td>-0.336484</td>\n",
       "      <td>1.000000</td>\n",
       "    </tr>\n",
       "  </tbody>\n",
       "</table>\n",
       "</div>"
      ],
      "text/plain": [
       "                Wind_direction  Pressure  Humidity  Temperature\n",
       "Wind_direction        1.000000  0.147581 -0.359865     0.066964\n",
       "Pressure              0.147581  1.000000 -0.312852     0.271711\n",
       "Humidity             -0.359865 -0.312852  1.000000    -0.336484\n",
       "Temperature           0.066964  0.271711 -0.336484     1.000000"
      ]
     },
     "execution_count": 12,
     "metadata": {},
     "output_type": "execute_result"
    }
   ],
   "source": [
    "# Строим корреляционную матрциу. Наиболее коррелируемым фактором является Humidity\n",
    "mk.corr ()"
   ]
  },
  {
   "cell_type": "code",
   "execution_count": 13,
   "metadata": {},
   "outputs": [],
   "source": [
    "# Делим наш дата сет на обучающую и тестовую выборку\n",
    "X = mk.iloc[:, :-1].values\n",
    "y = mk.iloc[:, 3].values\n",
    "from sklearn.model_selection import train_test_split\n",
    "X_train, X_test, y_train, y_test = train_test_split(X, y, test_size=0.2, random_state=10)"
   ]
  },
  {
   "cell_type": "code",
   "execution_count": 14,
   "metadata": {},
   "outputs": [],
   "source": [
    "# Строим простую линейную регрессию зависимости от одного фактора (Humidity)\n",
    "from sklearn.linear_model import LinearRegression\n",
    "sr = LinearRegression().fit(X_train[:, 2:3], y_train)"
   ]
  },
  {
   "cell_type": "code",
   "execution_count": 15,
   "metadata": {},
   "outputs": [
    {
     "data": {
      "text/plain": [
       "(array([-0.0664175]), 3.8153246181727503)"
      ]
     },
     "execution_count": 15,
     "metadata": {},
     "output_type": "execute_result"
    }
   ],
   "source": [
    "# Оцениваем полученные параметры\n",
    "sr.coef_, sr.intercept_"
   ]
  },
  {
   "cell_type": "code",
   "execution_count": 16,
   "metadata": {},
   "outputs": [],
   "source": [
    "# Делаем прогноз \n",
    "y_pred = sr.predict(X_test[:, 2:3])"
   ]
  },
  {
   "cell_type": "code",
   "execution_count": 17,
   "metadata": {},
   "outputs": [
    {
     "data": {
      "text/plain": [
       "(0.12423247287663497, 0.06662919258237043)"
      ]
     },
     "execution_count": 17,
     "metadata": {},
     "output_type": "execute_result"
    }
   ],
   "source": [
    "# Проверяем кэф. детерминации, который равен 0.12 для обучающей и 0.06 для тестовой , что является совсем маленьким значением доверия.\n",
    "sr.score(X_train[:, 2:3], y_train), sr.score(X_test[:, 2:3], y_test)"
   ]
  },
  {
   "cell_type": "code",
   "execution_count": 18,
   "metadata": {},
   "outputs": [
    {
     "data": {
      "text/plain": [
       "(13.544660505748867, 14.089669475099534)"
      ]
     },
     "execution_count": 18,
     "metadata": {},
     "output_type": "execute_result"
    }
   ],
   "source": [
    "# Расчитываем среднеквадратическую ошибку. Для обучающей выборки ошибка меьнше, чем для тестовой.\n",
    "from sklearn.metrics import mean_squared_error\n",
    "mean_squared_error(y_train, sr.predict(X_train[:, 2:3])), mean_squared_error(y_test, y_pred)"
   ]
  },
  {
   "cell_type": "code",
   "execution_count": 19,
   "metadata": {},
   "outputs": [
    {
     "data": {
      "image/png": "[encoded data removed]",
      "text/plain": [
       "<Figure size 432x288 with 1 Axes>"
      ]
     },
     "metadata": {
      "needs_background": "light"
     },
     "output_type": "display_data"
    }
   ],
   "source": [
    "# Проиллюстрируем полученную модель. Можно сделать следующие выводы, что простая линейная регрессия описывает модель не точно.\n",
    "plt.scatter(X_test[:,2], y_test, color = 'red')\n",
    "plt.plot(X_test[:,2], sr.predict(X_test[:, 2:3]), 'bo')\n",
    "plt.title('Temperature vs Humidity (Test set)')\n",
    "plt.xlabel('Humidity')\n",
    "plt.ylabel('Temperature')\n",
    "plt.show()"
   ]
  },
  {
   "cell_type": "code",
   "execution_count": 20,
   "metadata": {},
   "outputs": [
    {
     "data": {
      "text/html": [
       "<table class=\"simpletable\">\n",
       "<caption>OLS Regression Results</caption>\n",
       "<tr>\n",
       "  <th>Dep. Variable:</th>            <td>y</td>        <th>  R-squared:         </th> <td>   0.162</td> \n",
       "</tr>\n",
       "<tr>\n",
       "  <th>Model:</th>                   <td>OLS</td>       <th>  Adj. R-squared:    </th> <td>   0.161</td> \n",
       "</tr>\n",
       "<tr>\n",
       "  <th>Method:</th>             <td>Least Squares</td>  <th>  F-statistic:       </th> <td>   174.7</td> \n",
       "</tr>\n",
       "<tr>\n",
       "  <th>Date:</th>             <td>Tue, 03 Nov 2020</td> <th>  Prob (F-statistic):</th> <td>1.65e-103</td>\n",
       "</tr>\n",
       "<tr>\n",
       "  <th>Time:</th>                 <td>14:11:33</td>     <th>  Log-Likelihood:    </th> <td> -7316.4</td> \n",
       "</tr>\n",
       "<tr>\n",
       "  <th>No. Observations:</th>      <td>  2710</td>      <th>  AIC:               </th> <td>1.464e+04</td>\n",
       "</tr>\n",
       "<tr>\n",
       "  <th>Df Residuals:</th>          <td>  2706</td>      <th>  BIC:               </th> <td>1.466e+04</td>\n",
       "</tr>\n",
       "<tr>\n",
       "  <th>Df Model:</th>              <td>     3</td>      <th>                     </th>     <td> </td>    \n",
       "</tr>\n",
       "<tr>\n",
       "  <th>Covariance Type:</th>      <td>nonrobust</td>    <th>                     </th>     <td> </td>    \n",
       "</tr>\n",
       "</table>\n",
       "<table class=\"simpletable\">\n",
       "<tr>\n",
       "    <td></td>       <th>coef</th>     <th>std err</th>      <th>t</th>      <th>P>|t|</th>  <th>[0.025</th>    <th>0.975]</th>  \n",
       "</tr>\n",
       "<tr>\n",
       "  <th>const</th> <td>  -40.9597</td> <td>    4.277</td> <td>   -9.577</td> <td> 0.000</td> <td>  -49.346</td> <td>  -32.574</td>\n",
       "</tr>\n",
       "<tr>\n",
       "  <th>x1</th>    <td>   -0.0025</td> <td>    0.001</td> <td>   -3.330</td> <td> 0.001</td> <td>   -0.004</td> <td>   -0.001</td>\n",
       "</tr>\n",
       "<tr>\n",
       "  <th>x2</th>    <td>    0.0500</td> <td>    0.005</td> <td>   10.650</td> <td> 0.000</td> <td>    0.041</td> <td>    0.059</td>\n",
       "</tr>\n",
       "<tr>\n",
       "  <th>x3</th>    <td>   -0.0588</td> <td>    0.004</td> <td>  -15.912</td> <td> 0.000</td> <td>   -0.066</td> <td>   -0.052</td>\n",
       "</tr>\n",
       "</table>\n",
       "<table class=\"simpletable\">\n",
       "<tr>\n",
       "  <th>Omnibus:</th>       <td>28.548</td> <th>  Durbin-Watson:     </th> <td>   2.056</td>\n",
       "</tr>\n",
       "<tr>\n",
       "  <th>Prob(Omnibus):</th> <td> 0.000</td> <th>  Jarque-Bera (JB):  </th> <td>  29.171</td>\n",
       "</tr>\n",
       "<tr>\n",
       "  <th>Skew:</th>          <td> 0.251</td> <th>  Prob(JB):          </th> <td>4.63e-07</td>\n",
       "</tr>\n",
       "<tr>\n",
       "  <th>Kurtosis:</th>      <td> 3.081</td> <th>  Cond. No.          </th> <td>5.68e+04</td>\n",
       "</tr>\n",
       "</table><br/><br/>Warnings:<br/>[1] Standard Errors assume that the covariance matrix of the errors is correctly specified.<br/>[2] The condition number is large, 5.68e+04. This might indicate that there are<br/>strong multicollinearity or other numerical problems."
      ],
      "text/plain": [
       "<class 'statsmodels.iolib.summary.Summary'>\n",
       "\"\"\"\n",
       "                            OLS Regression Results                            \n",
       "==============================================================================\n",
       "Dep. Variable:                      y   R-squared:                       0.162\n",
       "Model:                            OLS   Adj. R-squared:                  0.161\n",
       "Method:                 Least Squares   F-statistic:                     174.7\n",
       "Date:                Tue, 03 Nov 2020   Prob (F-statistic):          1.65e-103\n",
       "Time:                        14:11:33   Log-Likelihood:                -7316.4\n",
       "No. Observations:                2710   AIC:                         1.464e+04\n",
       "Df Residuals:                    2706   BIC:                         1.466e+04\n",
       "Df Model:                           3                                         \n",
       "Covariance Type:            nonrobust                                         \n",
       "==============================================================================\n",
       "                 coef    std err          t      P>|t|      [0.025      0.975]\n",
       "------------------------------------------------------------------------------\n",
       "const        -40.9597      4.277     -9.577      0.000     -49.346     -32.574\n",
       "x1            -0.0025      0.001     -3.330      0.001      -0.004      -0.001\n",
       "x2             0.0500      0.005     10.650      0.000       0.041       0.059\n",
       "x3            -0.0588      0.004    -15.912      0.000      -0.066      -0.052\n",
       "==============================================================================\n",
       "Omnibus:                       28.548   Durbin-Watson:                   2.056\n",
       "Prob(Omnibus):                  0.000   Jarque-Bera (JB):               29.171\n",
       "Skew:                           0.251   Prob(JB):                     4.63e-07\n",
       "Kurtosis:                       3.081   Cond. No.                     5.68e+04\n",
       "==============================================================================\n",
       "\n",
       "Warnings:\n",
       "[1] Standard Errors assume that the covariance matrix of the errors is correctly specified.\n",
       "[2] The condition number is large, 5.68e+04. This might indicate that there are\n",
       "strong multicollinearity or other numerical problems.\n",
       "\"\"\""
      ]
     },
     "execution_count": 20,
     "metadata": {},
     "output_type": "execute_result"
    }
   ],
   "source": [
    "# Множественная регрессия. Проверяем P value - делаем выводы , что все переменные значимые и будем использовать их как основу.\n",
    "import statsmodels.api as sm\n",
    "X = sm.add_constant(X_train)\n",
    "mr1 = sm.OLS(y_train, X).fit()\n",
    "#mr1.pvalues\n",
    "mr1.summary()"
   ]
  },
  {
   "cell_type": "code",
   "execution_count": 21,
   "metadata": {},
   "outputs": [],
   "source": [
    "# Определяем значимые переменные с погрешностью 5%.\n",
    "def backwardElimination(x, sl):\n",
    "    x = sm.add_constant(x)\n",
    "    numVars = len(x[0])\n",
    "    for i in range(0, numVars):\n",
    "        regressor_OLS = sm.OLS(y, x).fit()\n",
    "        maxVar = max(regressor_OLS.pvalues).astype(float)\n",
    "        if maxVar > sl:\n",
    "            for j in range(0, numVars - i):\n",
    "                if (regressor_OLS.pvalues[j].astype(float) == maxVar):\n",
    "                    x = np.delete(x, j, 1)\n",
    "    regressor_OLS.summary()\n",
    "    return x\n",
    "\n",
    "import statsmodels.api as sm         \n",
    "SL = 0.05\n",
    "X_opt = X_train\n",
    "y = y_train\n",
    "X_Modeled = backwardElimination(X_opt, SL)"
   ]
  },
  {
   "cell_type": "code",
   "execution_count": 22,
   "metadata": {},
   "outputs": [],
   "source": [
    "X_train = X_train[:, [0, 1, 2]]\n",
    "X_test = X_test[:, [0, 1, 2]]"
   ]
  },
  {
   "cell_type": "code",
   "execution_count": 23,
   "metadata": {},
   "outputs": [],
   "source": [
    "# Строим множественную регрессию на обучающейся выборке.\n",
    "mr = LinearRegression().fit(X_train, y_train)"
   ]
  },
  {
   "cell_type": "code",
   "execution_count": 24,
   "metadata": {},
   "outputs": [
    {
     "data": {
      "text/plain": [
       "(array([-0.00245737,  0.04995137, -0.05875412]), -40.95969596955336)"
      ]
     },
     "execution_count": 24,
     "metadata": {},
     "output_type": "execute_result"
    }
   ],
   "source": [
    "# Получаем и оцениваем параметры.\n",
    "mr.coef_, mr.intercept_"
   ]
  },
  {
   "cell_type": "code",
   "execution_count": 25,
   "metadata": {},
   "outputs": [],
   "source": [
    "# Строим прогноз.\n",
    "y_pred = mr.predict(X_test)"
   ]
  },
  {
   "cell_type": "code",
   "execution_count": 26,
   "metadata": {},
   "outputs": [
    {
     "data": {
      "text/plain": [
       "(0.1622224647843865, 0.08817785044275872)"
      ]
     },
     "execution_count": 26,
     "metadata": {},
     "output_type": "execute_result"
    }
   ],
   "source": [
    "# Проверяем кэф. детерминации, который равен 0.16 для обучающей и 0.08 для тестоовой, лучше чем в моделе однофактороной регрессии, но по прежнему низкий.\n",
    "mr.score(X_train, y_train), mr.score(X_test, y_test)"
   ]
  },
  {
   "cell_type": "code",
   "execution_count": 27,
   "metadata": {},
   "outputs": [
    {
     "data": {
      "text/plain": [
       "(12.957105558722201, 13.764382392546684)"
      ]
     },
     "execution_count": 27,
     "metadata": {},
     "output_type": "execute_result"
    }
   ],
   "source": [
    "# Расчитываем среднеквадратическую ошибку. Для обучающей выборки ошибка меьнше, чем для тестовой. Ошибка меньше в сравнении с однофакторной регрессией.\n",
    "mean_squared_error(y_train, mr.predict(X_train)), mean_squared_error(y_test, y_pred)"
   ]
  },
  {
   "cell_type": "code",
   "execution_count": 28,
   "metadata": {},
   "outputs": [
    {
     "data": {
      "image/png": "[encoded data removed]",
      "text/plain": [
       "<Figure size 432x288 with 1 Axes>"
      ]
     },
     "metadata": {
      "needs_background": "light"
     },
     "output_type": "display_data"
    }
   ],
   "source": [
    "# Проиллюстрируем полученную модель. Можно сделать следующие выводы, что множественная линейная регрессия описывает модель лучше, чем однофакторная, стала более точнее.\n",
    "plt.scatter(X_test[:,2], y_test, color = 'red')\n",
    "plt.plot(X_test[:,2], mr.predict(X_test), 'bo')\n",
    "plt.title('Temperature vs Humidity (Test set)')\n",
    "plt.xlabel('Humidity')\n",
    "plt.ylabel('Temperature')\n",
    "plt.show()"
   ]
  },
  {
   "cell_type": "code",
   "execution_count": 29,
   "metadata": {},
   "outputs": [],
   "source": [
    "# Построим полиномиальную регрессию для нашего датасета.\n",
    "from sklearn.preprocessing import PolynomialFeatures\n",
    "X_train_p = PolynomialFeatures().fit_transform(X_train)\n",
    "X_test_p = PolynomialFeatures().fit_transform(X_test)\n",
    "pr = LinearRegression().fit(X_train_p[:,1:], y_train)"
   ]
  },
  {
   "cell_type": "code",
   "execution_count": 30,
   "metadata": {},
   "outputs": [
    {
     "data": {
      "text/plain": [
       "(array([-3.64455528e-02,  1.50027429e+01,  9.91825553e-01,  1.34042782e-04,\n",
       "        -2.46319287e-05,  8.11862956e-05, -8.24210783e-03, -1.16041702e-03,\n",
       "        -1.17938238e-04]),\n",
       " -6816.506550732889)"
      ]
     },
     "execution_count": 30,
     "metadata": {},
     "output_type": "execute_result"
    }
   ],
   "source": [
    "# Получаем и оцениваем параметры\n",
    "pr.coef_, pr.intercept_"
   ]
  },
  {
   "cell_type": "code",
   "execution_count": 31,
   "metadata": {},
   "outputs": [],
   "source": [
    "# Строим прогноз\n",
    "y_pred = pr.predict(X_test_p[:,1:])"
   ]
  },
  {
   "cell_type": "code",
   "execution_count": 32,
   "metadata": {},
   "outputs": [
    {
     "data": {
      "text/plain": [
       "(0.27411245020680775, 0.20888491396846176)"
      ]
     },
     "execution_count": 32,
     "metadata": {},
     "output_type": "execute_result"
    }
   ],
   "source": [
    "# Проверяем кэф. детерминации, который равен 0.27 для обучающей и 0.20 для тестовой. Кэф. детерминации стал больше в сравнении с множественноей регрессией.\n",
    "pr.score(X_train_p[:,1:], y_train), pr.score(X_test_p[:,1:], y_test)"
   ]
  },
  {
   "cell_type": "code",
   "execution_count": 33,
   "metadata": {},
   "outputs": [
    {
     "data": {
      "text/plain": [
       "(11.226609942473573, 11.942252736389543)"
      ]
     },
     "execution_count": 33,
     "metadata": {},
     "output_type": "execute_result"
    }
   ],
   "source": [
    "# Расчитываем среднеквадратическую ошибку. Для обучающей выборки ошибка меьнше, чем для тестовой. Ошибка меньше в сравнении с множественной регрессией.\n",
    "mean_squared_error(y_train, pr.predict(X_train_p[:,1:])), mean_squared_error(y_test, y_pred)"
   ]
  },
  {
   "cell_type": "code",
   "execution_count": 34,
   "metadata": {},
   "outputs": [
    {
     "data": {
      "image/png": "[encoded data removed]",
      "text/plain": [
       "<Figure size 432x288 with 1 Axes>"
      ]
     },
     "metadata": {
      "needs_background": "light"
     },
     "output_type": "display_data"
    }
   ],
   "source": [
    "# Проиллюстрируем полученную модель. Можно сделать следующие выводы, что полиномиальная регрессия описывает модель лучше, чем однофакторная и множественная. Модель более точно описывает значения.\n",
    "plt.scatter(X_test[:,2], y_test, color = 'red')\n",
    "plt.plot(X_test[:,2], pr.predict(X_test_p[:,1:]), 'bo')\n",
    "plt.title('Temperature vs Humidity (Test set)')\n",
    "plt.xlabel('Humidity')\n",
    "plt.ylabel('Temperature')\n",
    "plt.show()"
   ]
  },
  {
   "cell_type": "code",
   "execution_count": 35,
   "metadata": {},
   "outputs": [],
   "source": [
    "import pickle\n",
    "obj = {'X_train': X_train, 'X_test': X_test,'y_train': y_train,'y_test': y_test}\n",
    "output = open('kr_reg.pkl', 'wb')\n",
    "pickle.dump(obj, output, 2)\n",
    "output.close()"
   ]
  },
  {
   "cell_type": "code",
   "execution_count": 36,
   "metadata": {},
   "outputs": [],
   "source": [
    "# Загружаем наши данные для построения нейронной сети.\n",
    "import pickle\n",
    "input = open('kr_reg.pkl', 'rb')\n",
    "obj = pickle.load(input)\n",
    "input.close()\n",
    "X_train = obj[\"X_train\"]\n",
    "X_test = obj[\"X_test\"]\n",
    "y_train = obj[\"y_train\"]\n",
    "y_test = obj[\"y_test\"]"
   ]
  },
  {
   "cell_type": "code",
   "execution_count": 37,
   "metadata": {},
   "outputs": [],
   "source": [
    "# Проводим шкалирование.\n",
    "from sklearn.preprocessing import StandardScaler\n",
    "sc_X = StandardScaler().fit(X_train)\n",
    "X_train = sc_X.transform(X_train)\n",
    "X_test = sc_X.transform(X_test)\n",
    "sc_y = StandardScaler().fit(np.array([[i] for i in y_train]))\n",
    "y_train = sc_y.transform(np.array([[i] for i in y_train]))\n",
    "y_test = sc_y.transform(np.array([[i] for i in y_test]))"
   ]
  },
  {
   "cell_type": "code",
   "execution_count": 38,
   "metadata": {},
   "outputs": [],
   "source": [
    "# Подключаем необходимые библиотеки.\n",
    "import keras\n",
    "from keras.models import Sequential\n",
    "from keras.layers import Dense\n"
   ]
  },
  {
   "cell_type": "code",
   "execution_count": 39,
   "metadata": {},
   "outputs": [],
   "source": [
    "# Создаём сеть RNN, она будет последовательной. На первом и втором слое берем тангенс для повышенной точности. Для последнего слоя используем линейную функцию активациит \n",
    "rnn = Sequential()\n",
    "\n",
    "# Adding the input layer and the first hidden layer\n",
    "rnn.add(Dense(units = 6, activation = 'tanh', input_dim = 3))\n",
    "\n",
    "# Adding the second hidden layer\n",
    "rnn.add(Dense(units = 4, activation = 'tanh'))\n",
    "\n",
    "# Adding the output layer\n",
    "rnn.add(Dense(units = 1, activation = 'linear'))\n",
    "\n",
    "# Compiling the ANN\n",
    "rnn.compile(optimizer='adam', loss='mean_squared_error', metrics = ['accuracy'])"
   ]
  },
  {
   "cell_type": "code",
   "execution_count": 40,
   "metadata": {},
   "outputs": [
    {
     "name": "stdout",
     "output_type": "stream",
     "text": [
      "Epoch 1/100\n",
      "271/271 [==============================] - 0s 467us/step - loss: 1.1662 - accuracy: 0.0000e+00\n",
      "Epoch 2/100\n",
      "271/271 [==============================] - 0s 435us/step - loss: 0.8332 - accuracy: 0.0000e+00\n",
      "Epoch 3/100\n",
      "271/271 [==============================] - 0s 445us/step - loss: 0.8273 - accuracy: 0.0000e+00\n",
      "Epoch 4/100\n",
      "271/271 [==============================] - 0s 450us/step - loss: 0.8230 - accuracy: 0.0000e+00\n",
      "Epoch 5/100\n",
      "271/271 [==============================] - 0s 430us/step - loss: 0.8172 - accuracy: 0.0000e+00\n",
      "Epoch 6/100\n",
      "271/271 [==============================] - 0s 439us/step - loss: 0.8121 - accuracy: 0.0000e+00\n",
      "Epoch 7/100\n",
      "271/271 [==============================] - 0s 517us/step - loss: 0.8052 - accuracy: 0.0000e+00\n",
      "Epoch 8/100\n",
      "271/271 [==============================] - 0s 464us/step - loss: 0.7973 - accuracy: 0.0000e+00\n",
      "Epoch 9/100\n",
      "271/271 [==============================] - 0s 450us/step - loss: 0.7889 - accuracy: 0.0000e+00\n",
      "Epoch 10/100\n",
      "271/271 [==============================] - 0s 464us/step - loss: 0.7811 - accuracy: 0.0000e+00\n",
      "Epoch 11/100\n",
      "271/271 [==============================] - 0s 452us/step - loss: 0.7722 - accuracy: 0.0000e+00\n",
      "Epoch 12/100\n",
      "271/271 [==============================] - 0s 441us/step - loss: 0.7626 - accuracy: 0.0000e+00\n",
      "Epoch 13/100\n",
      "271/271 [==============================] - 0s 440us/step - loss: 0.7583 - accuracy: 0.0000e+00\n",
      "Epoch 14/100\n",
      "271/271 [==============================] - 0s 438us/step - loss: 0.7501 - accuracy: 0.0000e+00\n",
      "Epoch 15/100\n",
      "271/271 [==============================] - 0s 430us/step - loss: 0.7407 - accuracy: 0.0000e+00\n",
      "Epoch 16/100\n",
      "271/271 [==============================] - 0s 439us/step - loss: 0.7352 - accuracy: 0.0000e+00\n",
      "Epoch 17/100\n",
      "271/271 [==============================] - 0s 436us/step - loss: 0.7269 - accuracy: 0.0000e+00\n",
      "Epoch 18/100\n",
      "271/271 [==============================] - 0s 413us/step - loss: 0.7196 - accuracy: 0.0000e+00\n",
      "Epoch 19/100\n",
      "271/271 [==============================] - 0s 455us/step - loss: 0.7149 - accuracy: 0.0000e+00\n",
      "Epoch 20/100\n",
      "271/271 [==============================] - 0s 441us/step - loss: 0.7091 - accuracy: 0.0000e+00\n",
      "Epoch 21/100\n",
      "271/271 [==============================] - 0s 428us/step - loss: 0.7052 - accuracy: 0.0000e+00\n",
      "Epoch 22/100\n",
      "271/271 [==============================] - 0s 439us/step - loss: 0.7001 - accuracy: 0.0000e+00\n",
      "Epoch 23/100\n",
      "271/271 [==============================] - 0s 440us/step - loss: 0.6980 - accuracy: 0.0000e+00\n",
      "Epoch 24/100\n",
      "271/271 [==============================] - 0s 451us/step - loss: 0.6942 - accuracy: 0.0000e+00\n",
      "Epoch 25/100\n",
      "271/271 [==============================] - 0s 415us/step - loss: 0.6916 - accuracy: 0.0000e+00\n",
      "Epoch 26/100\n",
      "271/271 [==============================] - 0s 431us/step - loss: 0.6887 - accuracy: 0.0000e+00\n",
      "Epoch 27/100\n",
      "271/271 [==============================] - 0s 425us/step - loss: 0.6876 - accuracy: 0.0000e+00\n",
      "Epoch 28/100\n",
      "271/271 [==============================] - 0s 416us/step - loss: 0.6838 - accuracy: 0.0000e+00\n",
      "Epoch 29/100\n",
      "271/271 [==============================] - 0s 433us/step - loss: 0.6830 - accuracy: 0.0000e+00\n",
      "Epoch 30/100\n",
      "271/271 [==============================] - 0s 422us/step - loss: 0.6806 - accuracy: 0.0000e+00\n",
      "Epoch 31/100\n",
      "271/271 [==============================] - 0s 437us/step - loss: 0.6803 - accuracy: 0.0000e+00\n",
      "Epoch 32/100\n",
      "271/271 [==============================] - 0s 461us/step - loss: 0.6776 - accuracy: 0.0000e+00\n",
      "Epoch 33/100\n",
      "271/271 [==============================] - 0s 486us/step - loss: 0.6759 - accuracy: 0.0000e+00\n",
      "Epoch 34/100\n",
      "271/271 [==============================] - 0s 466us/step - loss: 0.6718 - accuracy: 0.0000e+00\n",
      "Epoch 35/100\n",
      "271/271 [==============================] - 0s 464us/step - loss: 0.6726 - accuracy: 0.0000e+00\n",
      "Epoch 36/100\n",
      "271/271 [==============================] - 0s 526us/step - loss: 0.6690 - accuracy: 0.0000e+00\n",
      "Epoch 37/100\n",
      "271/271 [==============================] - 0s 427us/step - loss: 0.6687 - accuracy: 0.0000e+00\n",
      "Epoch 38/100\n",
      "271/271 [==============================] - 0s 432us/step - loss: 0.6661 - accuracy: 0.0000e+00\n",
      "Epoch 39/100\n",
      "271/271 [==============================] - 0s 447us/step - loss: 0.6647 - accuracy: 0.0000e+00\n",
      "Epoch 40/100\n",
      "271/271 [==============================] - 0s 450us/step - loss: 0.6638 - accuracy: 0.0000e+00\n",
      "Epoch 41/100\n",
      "271/271 [==============================] - 0s 428us/step - loss: 0.6607 - accuracy: 0.0000e+00\n",
      "Epoch 42/100\n",
      "271/271 [==============================] - 0s 435us/step - loss: 0.6603 - accuracy: 0.0000e+00\n",
      "Epoch 43/100\n",
      "271/271 [==============================] - 0s 441us/step - loss: 0.6576 - accuracy: 0.0000e+00\n",
      "Epoch 44/100\n",
      "271/271 [==============================] - 0s 454us/step - loss: 0.6575 - accuracy: 0.0000e+00\n",
      "Epoch 45/100\n",
      "271/271 [==============================] - 0s 439us/step - loss: 0.6554 - accuracy: 0.0000e+00\n",
      "Epoch 46/100\n",
      "271/271 [==============================] - 0s 431us/step - loss: 0.6540 - accuracy: 0.0000e+00\n",
      "Epoch 47/100\n",
      "271/271 [==============================] - 0s 453us/step - loss: 0.6512 - accuracy: 0.0000e+00\n",
      "Epoch 48/100\n",
      "271/271 [==============================] - 0s 454us/step - loss: 0.6498 - accuracy: 0.0000e+00\n",
      "Epoch 49/100\n",
      "271/271 [==============================] - 0s 456us/step - loss: 0.6500 - accuracy: 0.0000e+00\n",
      "Epoch 50/100\n",
      "271/271 [==============================] - 0s 436us/step - loss: 0.6486 - accuracy: 0.0000e+00\n",
      "Epoch 51/100\n",
      "271/271 [==============================] - 0s 440us/step - loss: 0.6463 - accuracy: 0.0000e+00\n",
      "Epoch 52/100\n",
      "271/271 [==============================] - 0s 462us/step - loss: 0.6458 - accuracy: 0.0000e+00\n",
      "Epoch 53/100\n",
      "271/271 [==============================] - 0s 442us/step - loss: 0.6433 - accuracy: 0.0000e+00\n",
      "Epoch 54/100\n",
      "271/271 [==============================] - 0s 428us/step - loss: 0.6418 - accuracy: 0.0000e+00\n",
      "Epoch 55/100\n",
      "271/271 [==============================] - 0s 439us/step - loss: 0.6406 - accuracy: 0.0000e+00\n",
      "Epoch 56/100\n",
      "271/271 [==============================] - 0s 420us/step - loss: 0.6401 - accuracy: 0.0000e+00\n",
      "Epoch 57/100\n",
      "271/271 [==============================] - 0s 439us/step - loss: 0.6389 - accuracy: 0.0000e+00\n",
      "Epoch 58/100\n",
      "271/271 [==============================] - 0s 433us/step - loss: 0.6382 - accuracy: 0.0000e+00\n",
      "Epoch 59/100\n",
      "271/271 [==============================] - 0s 444us/step - loss: 0.6351 - accuracy: 0.0000e+00\n",
      "Epoch 60/100\n",
      "271/271 [==============================] - 0s 436us/step - loss: 0.6335 - accuracy: 0.0000e+00\n",
      "Epoch 61/100\n",
      "271/271 [==============================] - 0s 440us/step - loss: 0.6314 - accuracy: 0.0000e+00\n",
      "Epoch 62/100\n",
      "271/271 [==============================] - 0s 444us/step - loss: 0.6279 - accuracy: 0.0000e+00\n",
      "Epoch 63/100\n",
      "271/271 [==============================] - 0s 430us/step - loss: 0.6290 - accuracy: 0.0000e+00\n",
      "Epoch 64/100\n",
      "271/271 [==============================] - 0s 442us/step - loss: 0.6259 - accuracy: 0.0000e+00\n",
      "Epoch 65/100\n",
      "271/271 [==============================] - 0s 459us/step - loss: 0.6269 - accuracy: 0.0000e+00\n",
      "Epoch 66/100\n",
      "271/271 [==============================] - 0s 459us/step - loss: 0.6250 - accuracy: 0.0000e+00\n",
      "Epoch 67/100\n",
      "271/271 [==============================] - 0s 427us/step - loss: 0.6235 - accuracy: 0.0000e+00\n",
      "Epoch 68/100\n",
      "271/271 [==============================] - 0s 436us/step - loss: 0.6218 - accuracy: 0.0000e+00\n",
      "Epoch 69/100\n",
      "271/271 [==============================] - 0s 423us/step - loss: 0.6176 - accuracy: 0.0000e+00\n",
      "Epoch 70/100\n",
      "271/271 [==============================] - 0s 444us/step - loss: 0.6195 - accuracy: 0.0000e+00\n",
      "Epoch 71/100\n",
      "271/271 [==============================] - 0s 427us/step - loss: 0.6153 - accuracy: 0.0000e+00\n",
      "Epoch 72/100\n",
      "271/271 [==============================] - 0s 445us/step - loss: 0.6150 - accuracy: 0.0000e+00\n",
      "Epoch 73/100\n",
      "271/271 [==============================] - 0s 441us/step - loss: 0.6103 - accuracy: 0.0000e+00\n",
      "Epoch 74/100\n",
      "271/271 [==============================] - 0s 443us/step - loss: 0.6102 - accuracy: 0.0000e+00\n",
      "Epoch 75/100\n",
      "271/271 [==============================] - 0s 439us/step - loss: 0.6086 - accuracy: 0.0000e+00\n",
      "Epoch 76/100\n",
      "271/271 [==============================] - 0s 452us/step - loss: 0.6079 - accuracy: 0.0000e+00\n"
     ]
    },
    {
     "name": "stdout",
     "output_type": "stream",
     "text": [
      "Epoch 77/100\n",
      "271/271 [==============================] - 0s 440us/step - loss: 0.6059 - accuracy: 0.0000e+00\n",
      "Epoch 78/100\n",
      "271/271 [==============================] - 0s 426us/step - loss: 0.6041 - accuracy: 0.0000e+00\n",
      "Epoch 79/100\n",
      "271/271 [==============================] - 0s 436us/step - loss: 0.6011 - accuracy: 0.0000e+00\n",
      "Epoch 80/100\n",
      "271/271 [==============================] - 0s 427us/step - loss: 0.5984 - accuracy: 0.0000e+00\n",
      "Epoch 81/100\n",
      "271/271 [==============================] - 0s 430us/step - loss: 0.5981 - accuracy: 0.0000e+00\n",
      "Epoch 82/100\n",
      "271/271 [==============================] - 0s 440us/step - loss: 0.5955 - accuracy: 0.0000e+00\n",
      "Epoch 83/100\n",
      "271/271 [==============================] - 0s 441us/step - loss: 0.5946 - accuracy: 0.0000e+00\n",
      "Epoch 84/100\n",
      "271/271 [==============================] - 0s 439us/step - loss: 0.5919 - accuracy: 0.0000e+00\n",
      "Epoch 85/100\n",
      "271/271 [==============================] - 0s 436us/step - loss: 0.5908 - accuracy: 0.0000e+00\n",
      "Epoch 86/100\n",
      "271/271 [==============================] - 0s 426us/step - loss: 0.5904 - accuracy: 0.0000e+00\n",
      "Epoch 87/100\n",
      "271/271 [==============================] - 0s 426us/step - loss: 0.5872 - accuracy: 0.0000e+00\n",
      "Epoch 88/100\n",
      "271/271 [==============================] - 0s 428us/step - loss: 0.5861 - accuracy: 0.0000e+00\n",
      "Epoch 89/100\n",
      "271/271 [==============================] - 0s 433us/step - loss: 0.5849 - accuracy: 0.0000e+00\n",
      "Epoch 90/100\n",
      "271/271 [==============================] - 0s 425us/step - loss: 0.5821 - accuracy: 0.0000e+00\n",
      "Epoch 91/100\n",
      "271/271 [==============================] - 0s 439us/step - loss: 0.5804 - accuracy: 0.0000e+00\n",
      "Epoch 92/100\n",
      "271/271 [==============================] - 0s 435us/step - loss: 0.5799 - accuracy: 0.0000e+00\n",
      "Epoch 93/100\n",
      "271/271 [==============================] - 0s 435us/step - loss: 0.5783 - accuracy: 0.0000e+00\n",
      "Epoch 94/100\n",
      "271/271 [==============================] - 0s 422us/step - loss: 0.5785 - accuracy: 0.0000e+00\n",
      "Epoch 95/100\n",
      "271/271 [==============================] - 0s 425us/step - loss: 0.5774 - accuracy: 0.0000e+00\n",
      "Epoch 96/100\n",
      "271/271 [==============================] - 0s 437us/step - loss: 0.5743 - accuracy: 0.0000e+00\n",
      "Epoch 97/100\n",
      "271/271 [==============================] - 0s 438us/step - loss: 0.5746 - accuracy: 0.0000e+00\n",
      "Epoch 98/100\n",
      "271/271 [==============================] - 0s 442us/step - loss: 0.5732 - accuracy: 0.0000e+00\n",
      "Epoch 99/100\n",
      "271/271 [==============================] - 0s 428us/step - loss: 0.5720 - accuracy: 0.0000e+00\n",
      "Epoch 100/100\n",
      "271/271 [==============================] - 0s 437us/step - loss: 0.5706 - accuracy: 0.0000e+00\n"
     ]
    },
    {
     "data": {
      "text/plain": [
       "<tensorflow.python.keras.callbacks.History at 0x288f84a8b50>"
      ]
     },
     "execution_count": 40,
     "metadata": {},
     "output_type": "execute_result"
    }
   ],
   "source": [
    "# Обучаем нашу нейронную сеть.\n",
    "rnn.fit(X_train, y_train, epochs = 100, batch_size = 10)"
   ]
  },
  {
   "cell_type": "code",
   "execution_count": 41,
   "metadata": {},
   "outputs": [],
   "source": [
    "# Строим прогноз.\n",
    "y_pred = rnn.predict(X_test)"
   ]
  },
  {
   "cell_type": "code",
   "execution_count": 42,
   "metadata": {},
   "outputs": [],
   "source": [
    "# Проводим обратное шкалирование\n",
    "from sklearn.preprocessing import StandardScaler\n",
    "y_hat = sc_y.inverse_transform(y_pred)\n",
    "y_test = sc_y.inverse_transform(y_test)\n",
    "X_test = sc_X.inverse_transform(X_test)"
   ]
  },
  {
   "cell_type": "code",
   "execution_count": 43,
   "metadata": {},
   "outputs": [
    {
     "data": {
      "text/plain": [
       "9.641156904594386"
      ]
     },
     "execution_count": 43,
     "metadata": {},
     "output_type": "execute_result"
    }
   ],
   "source": [
    "# Расчитываем среднеквадратическую ошибку. Она значительно меньше в сравнении с предыдущими моделями тестовой выборки.\n",
    "from sklearn.metrics import mean_squared_error\n",
    "mean_squared_error(y_test, y_hat)"
   ]
  },
  {
   "cell_type": "code",
   "execution_count": 46,
   "metadata": {},
   "outputs": [
    {
     "data": {
      "image/png": "[encoded data removed]",
      "text/plain": [
       "<Figure size 432x288 with 1 Axes>"
      ]
     },
     "metadata": {
      "needs_background": "light"
     },
     "output_type": "display_data"
    }
   ],
   "source": [
    "# Визуализируем нашу полученную модель. Как мы видим, что данная нейронная сеть наиболее точно описывает нашу выборку, в сравнении с другими моделями.\n",
    "plt.scatter(X_test[:,2], y_test, color = 'red')\n",
    "plt.plot(X_test[:,2], y_hat, 'bo')\n",
    "plt.title('Temperature vs Humidity (Test set)')\n",
    "plt.xlabel('Humidity')\n",
    "plt.ylabel('Temperature')\n",
    "plt.show()"
   ]
  }
 ],
 "metadata": {
  "kernelspec": {
   "display_name": "Python 3",
   "language": "python",
   "name": "python3"
  },
  "language_info": {
   "codemirror_mode": {
    "name": "ipython",
    "version": 3
   },
   "file_extension": ".py",
   "mimetype": "text/x-python",
   "name": "python",
   "nbconvert_exporter": "python",
   "pygments_lexer": "ipython3",
   "version": "3.8.3"
  }
 },
 "nbformat": 4,
 "nbformat_minor": 4
}
