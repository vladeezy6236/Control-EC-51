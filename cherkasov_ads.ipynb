{
 "cells": [
  {
   "cell_type": "code",
   "execution_count": 1,
   "metadata": {},
   "outputs": [],
   "source": [
    "#Загружаем наш дата сет. Мы имеем дата сет из 5 колонок (UserID, Gender, Age, Estimated Salary, Purchased) и 400 строк. Крайний столбец Purchased выступает как классификатор."
   ]
  },
  {
   "cell_type": "code",
   "execution_count": 2,
   "metadata": {},
   "outputs": [],
   "source": [
    "# Загружаем необходимые библиотеки для начала работы (Numpy, Matplotlib.pyplot ,Pandas)\n",
    "import numpy as np\n",
    "import matplotlib.pyplot as plt\n",
    "import pandas as pd"
   ]
  },
  {
   "cell_type": "code",
   "execution_count": 3,
   "metadata": {},
   "outputs": [],
   "source": [
    "# Загружаем дата сет в формате сsv, разделитель запятые, без столбца User ID (так как он не влияет на вычисления и построение)\n",
    "df = pd.read_csv('cherkasov_ads.csv', sep=',' )\n",
    "df = df.drop(['UserID'], axis=1)"
   ]
  },
  {
   "cell_type": "code",
   "execution_count": 4,
   "metadata": {},
   "outputs": [
    {
     "data": {
      "text/html": [
       "<div>\n",
       "<style scoped>\n",
       "    .dataframe tbody tr th:only-of-type {\n",
       "        vertical-align: middle;\n",
       "    }\n",
       "\n",
       "    .dataframe tbody tr th {\n",
       "        vertical-align: top;\n",
       "    }\n",
       "\n",
       "    .dataframe thead th {\n",
       "        text-align: right;\n",
       "    }\n",
       "</style>\n",
       "<table border=\"1\" class=\"dataframe\">\n",
       "  <thead>\n",
       "    <tr style=\"text-align: right;\">\n",
       "      <th></th>\n",
       "      <th>Gender</th>\n",
       "      <th>Age</th>\n",
       "      <th>EstimatedSalary</th>\n",
       "      <th>Purchased</th>\n",
       "    </tr>\n",
       "  </thead>\n",
       "  <tbody>\n",
       "    <tr>\n",
       "      <th>0</th>\n",
       "      <td>Male</td>\n",
       "      <td>19</td>\n",
       "      <td>19000</td>\n",
       "      <td>0</td>\n",
       "    </tr>\n",
       "    <tr>\n",
       "      <th>1</th>\n",
       "      <td>Male</td>\n",
       "      <td>35</td>\n",
       "      <td>20000</td>\n",
       "      <td>0</td>\n",
       "    </tr>\n",
       "    <tr>\n",
       "      <th>2</th>\n",
       "      <td>Female</td>\n",
       "      <td>26</td>\n",
       "      <td>43000</td>\n",
       "      <td>0</td>\n",
       "    </tr>\n",
       "    <tr>\n",
       "      <th>3</th>\n",
       "      <td>Female</td>\n",
       "      <td>27</td>\n",
       "      <td>57000</td>\n",
       "      <td>0</td>\n",
       "    </tr>\n",
       "    <tr>\n",
       "      <th>4</th>\n",
       "      <td>Male</td>\n",
       "      <td>19</td>\n",
       "      <td>76000</td>\n",
       "      <td>0</td>\n",
       "    </tr>\n",
       "    <tr>\n",
       "      <th>...</th>\n",
       "      <td>...</td>\n",
       "      <td>...</td>\n",
       "      <td>...</td>\n",
       "      <td>...</td>\n",
       "    </tr>\n",
       "    <tr>\n",
       "      <th>395</th>\n",
       "      <td>Female</td>\n",
       "      <td>46</td>\n",
       "      <td>41000</td>\n",
       "      <td>1</td>\n",
       "    </tr>\n",
       "    <tr>\n",
       "      <th>396</th>\n",
       "      <td>Male</td>\n",
       "      <td>51</td>\n",
       "      <td>23000</td>\n",
       "      <td>1</td>\n",
       "    </tr>\n",
       "    <tr>\n",
       "      <th>397</th>\n",
       "      <td>Female</td>\n",
       "      <td>50</td>\n",
       "      <td>20000</td>\n",
       "      <td>1</td>\n",
       "    </tr>\n",
       "    <tr>\n",
       "      <th>398</th>\n",
       "      <td>Male</td>\n",
       "      <td>36</td>\n",
       "      <td>33000</td>\n",
       "      <td>0</td>\n",
       "    </tr>\n",
       "    <tr>\n",
       "      <th>399</th>\n",
       "      <td>Female</td>\n",
       "      <td>49</td>\n",
       "      <td>36000</td>\n",
       "      <td>1</td>\n",
       "    </tr>\n",
       "  </tbody>\n",
       "</table>\n",
       "<p>400 rows × 4 columns</p>\n",
       "</div>"
      ],
      "text/plain": [
       "     Gender  Age  EstimatedSalary  Purchased\n",
       "0      Male   19            19000          0\n",
       "1      Male   35            20000          0\n",
       "2    Female   26            43000          0\n",
       "3    Female   27            57000          0\n",
       "4      Male   19            76000          0\n",
       "..      ...  ...              ...        ...\n",
       "395  Female   46            41000          1\n",
       "396    Male   51            23000          1\n",
       "397  Female   50            20000          1\n",
       "398    Male   36            33000          0\n",
       "399  Female   49            36000          1\n",
       "\n",
       "[400 rows x 4 columns]"
      ]
     },
     "execution_count": 4,
     "metadata": {},
     "output_type": "execute_result"
    }
   ],
   "source": [
    "# Проверяем как загрузился дата сет. \n",
    "df"
   ]
  },
  {
   "cell_type": "code",
   "execution_count": 5,
   "metadata": {},
   "outputs": [],
   "source": [
    "# Проводим кодирование качественных переменных.\n",
    "def encoding_char(x):\n",
    "    char_var = list(set(x.columns) - set(x._get_numeric_data().columns))\n",
    "    for col_names in char_var:\n",
    "        f = pd.factorize(x[col_names])\n",
    "        x[col_names] = pd.factorize(x[col_names])[0]\n",
    "    return(x)"
   ]
  },
  {
   "cell_type": "code",
   "execution_count": 6,
   "metadata": {},
   "outputs": [],
   "source": [
    "df = encoding_char(df)"
   ]
  },
  {
   "cell_type": "code",
   "execution_count": 7,
   "metadata": {},
   "outputs": [
    {
     "data": {
      "text/html": [
       "<div>\n",
       "<style scoped>\n",
       "    .dataframe tbody tr th:only-of-type {\n",
       "        vertical-align: middle;\n",
       "    }\n",
       "\n",
       "    .dataframe tbody tr th {\n",
       "        vertical-align: top;\n",
       "    }\n",
       "\n",
       "    .dataframe thead th {\n",
       "        text-align: right;\n",
       "    }\n",
       "</style>\n",
       "<table border=\"1\" class=\"dataframe\">\n",
       "  <thead>\n",
       "    <tr style=\"text-align: right;\">\n",
       "      <th></th>\n",
       "      <th>Gender</th>\n",
       "      <th>Age</th>\n",
       "      <th>EstimatedSalary</th>\n",
       "      <th>Purchased</th>\n",
       "    </tr>\n",
       "  </thead>\n",
       "  <tbody>\n",
       "    <tr>\n",
       "      <th>0</th>\n",
       "      <td>0</td>\n",
       "      <td>19</td>\n",
       "      <td>19000</td>\n",
       "      <td>0</td>\n",
       "    </tr>\n",
       "    <tr>\n",
       "      <th>1</th>\n",
       "      <td>0</td>\n",
       "      <td>35</td>\n",
       "      <td>20000</td>\n",
       "      <td>0</td>\n",
       "    </tr>\n",
       "    <tr>\n",
       "      <th>2</th>\n",
       "      <td>1</td>\n",
       "      <td>26</td>\n",
       "      <td>43000</td>\n",
       "      <td>0</td>\n",
       "    </tr>\n",
       "    <tr>\n",
       "      <th>3</th>\n",
       "      <td>1</td>\n",
       "      <td>27</td>\n",
       "      <td>57000</td>\n",
       "      <td>0</td>\n",
       "    </tr>\n",
       "    <tr>\n",
       "      <th>4</th>\n",
       "      <td>0</td>\n",
       "      <td>19</td>\n",
       "      <td>76000</td>\n",
       "      <td>0</td>\n",
       "    </tr>\n",
       "    <tr>\n",
       "      <th>...</th>\n",
       "      <td>...</td>\n",
       "      <td>...</td>\n",
       "      <td>...</td>\n",
       "      <td>...</td>\n",
       "    </tr>\n",
       "    <tr>\n",
       "      <th>395</th>\n",
       "      <td>1</td>\n",
       "      <td>46</td>\n",
       "      <td>41000</td>\n",
       "      <td>1</td>\n",
       "    </tr>\n",
       "    <tr>\n",
       "      <th>396</th>\n",
       "      <td>0</td>\n",
       "      <td>51</td>\n",
       "      <td>23000</td>\n",
       "      <td>1</td>\n",
       "    </tr>\n",
       "    <tr>\n",
       "      <th>397</th>\n",
       "      <td>1</td>\n",
       "      <td>50</td>\n",
       "      <td>20000</td>\n",
       "      <td>1</td>\n",
       "    </tr>\n",
       "    <tr>\n",
       "      <th>398</th>\n",
       "      <td>0</td>\n",
       "      <td>36</td>\n",
       "      <td>33000</td>\n",
       "      <td>0</td>\n",
       "    </tr>\n",
       "    <tr>\n",
       "      <th>399</th>\n",
       "      <td>1</td>\n",
       "      <td>49</td>\n",
       "      <td>36000</td>\n",
       "      <td>1</td>\n",
       "    </tr>\n",
       "  </tbody>\n",
       "</table>\n",
       "<p>400 rows × 4 columns</p>\n",
       "</div>"
      ],
      "text/plain": [
       "     Gender  Age  EstimatedSalary  Purchased\n",
       "0         0   19            19000          0\n",
       "1         0   35            20000          0\n",
       "2         1   26            43000          0\n",
       "3         1   27            57000          0\n",
       "4         0   19            76000          0\n",
       "..      ...  ...              ...        ...\n",
       "395       1   46            41000          1\n",
       "396       0   51            23000          1\n",
       "397       1   50            20000          1\n",
       "398       0   36            33000          0\n",
       "399       1   49            36000          1\n",
       "\n",
       "[400 rows x 4 columns]"
      ]
     },
     "execution_count": 7,
     "metadata": {},
     "output_type": "execute_result"
    }
   ],
   "source": [
    "df"
   ]
  },
  {
   "cell_type": "code",
   "execution_count": 8,
   "metadata": {},
   "outputs": [],
   "source": [
    "# Делим наш дата сет на обучающую и тестирующую выборку в пропорции 20/80.\n",
    "X = df.iloc[:, :-1].values\n",
    "y = df.iloc[:, -1].values\n",
    "from sklearn.model_selection import train_test_split\n",
    "X_train, X_test, y_train, y_test = train_test_split(X, y, test_size=0.2, random_state=13)"
   ]
  },
  {
   "cell_type": "code",
   "execution_count": 9,
   "metadata": {},
   "outputs": [],
   "source": [
    "# Производим шкалирование наших данных без нашей эдогенной переменной Purchased.\n",
    "from sklearn.preprocessing import StandardScaler\n",
    "sc_X = StandardScaler().fit(X_train)\n",
    "X_train = sc_X.transform(X_train)\n",
    "X_test = sc_X.transform(X_test)"
   ]
  },
  {
   "cell_type": "code",
   "execution_count": 10,
   "metadata": {},
   "outputs": [
    {
     "name": "stdout",
     "output_type": "stream",
     "text": [
      "Optimization terminated successfully.\n",
      "         Current function value: 0.380897\n",
      "         Iterations 7\n",
      "                         Results: Logit\n",
      "=================================================================\n",
      "Model:              Logit            Pseudo R-squared: 0.424     \n",
      "Dependent Variable: y                AIC:              249.7740  \n",
      "Date:               2021-01-12 20:05 BIC:              261.0789  \n",
      "No. Observations:   320              Log-Likelihood:   -121.89   \n",
      "Df Model:           2                LL-Null:          -211.70   \n",
      "Df Residuals:       317              LLR p-value:      9.8765e-40\n",
      "Converged:          1.0000           Scale:            1.0000    \n",
      "No. Iterations:     7.0000                                       \n",
      "--------------------------------------------------------------------\n",
      "        Coef.     Std.Err.       z       P>|z|      [0.025    0.975]\n",
      "--------------------------------------------------------------------\n",
      "x1     -0.1428      0.1597    -0.8944    0.3711    -0.4559    0.1702\n",
      "x2      2.3168      0.2879     8.0460    0.0000     1.7524    2.8811\n",
      "x3      1.4539      0.2278     6.3821    0.0000     1.0074    1.9003\n",
      "=================================================================\n",
      "\n"
     ]
    }
   ],
   "source": [
    "# Строим базовую модель и смотрим на полученный отчет. Можно сделать вывод, что значимых перменных только две.\n",
    "import statsmodels.api as sm\n",
    "lr = sm.Logit(y_train, X_train).fit()\n",
    "print(lr.summary2())"
   ]
  },
  {
   "cell_type": "code",
   "execution_count": 11,
   "metadata": {},
   "outputs": [],
   "source": [
    "# Остлавляем только значимые переменные.\n",
    "X_train = X_train[:,[1,2]]\n",
    "X_test = X_test[:,[1,2]]"
   ]
  },
  {
   "cell_type": "code",
   "execution_count": 12,
   "metadata": {},
   "outputs": [],
   "source": [
    "# Обучаем модель логистической регрессии.\n",
    "from sklearn.linear_model import LogisticRegression\n",
    "lr = LogisticRegression(random_state = 13).fit(X_train, y_train)"
   ]
  },
  {
   "cell_type": "code",
   "execution_count": 13,
   "metadata": {},
   "outputs": [
    {
     "data": {
      "text/plain": [
       "0.8375"
      ]
     },
     "execution_count": 13,
     "metadata": {},
     "output_type": "execute_result"
    }
   ],
   "source": [
    "# Делаем прогноз на тестовой выборке. Уровень качества модели выше нормального (83%), то есть 83% объектов будут распознаны правильно.\n",
    "y_pred = lr.predict(X_test)\n",
    "lr.score(X_test,y_test)"
   ]
  },
  {
   "cell_type": "code",
   "execution_count": 14,
   "metadata": {},
   "outputs": [
    {
     "name": "stdout",
     "output_type": "stream",
     "text": [
      "[[50  7]\n",
      " [ 6 17]]\n"
     ]
    }
   ],
   "source": [
    "# Строим таблицу сопряженности. Можно сделать вывод, что 6 положительных случая ложно определены как отрицательные и 7 отрицательных случаев определены моделью как положительные. \n",
    "from sklearn.metrics import confusion_matrix\n",
    "cm = confusion_matrix(y_test, y_pred)\n",
    "print(cm)"
   ]
  },
  {
   "cell_type": "code",
   "execution_count": 15,
   "metadata": {},
   "outputs": [
    {
     "name": "stderr",
     "output_type": "stream",
     "text": [
      "*c* argument looks like a single numeric RGB or RGBA sequence, which should be avoided as value-mapping will have precedence in case its length matches with *x* & *y*.  Please use the *color* keyword-argument or provide a 2-D array with a single row if you intend to specify the same RGB or RGBA value for all points.\n",
      "*c* argument looks like a single numeric RGB or RGBA sequence, which should be avoided as value-mapping will have precedence in case its length matches with *x* & *y*.  Please use the *color* keyword-argument or provide a 2-D array with a single row if you intend to specify the same RGB or RGBA value for all points.\n"
     ]
    },
    {
     "data": {
      "image/png": "[encoded data removed]",
      "text/plain": [
       "<Figure size 432x288 with 1 Axes>"
      ]
     },
     "metadata": {
      "needs_background": "light"
     },
     "output_type": "display_data"
    }
   ],
   "source": [
    "# Строим область значений. Они отделяются линейно. Зелёные точки - возможность покупки, красные точки - невозможность покупки.  \n",
    "from matplotlib.colors import ListedColormap\n",
    "X_set, y_set = X_test, y_test\n",
    "X1, X2 = np.meshgrid(np.arange(start = X_set[:, 0].min() - 1, stop = X_set[:, 0].max() + 1, step = 0.01),\n",
    "                     np.arange(start = X_set[:, 1].min() - 1, stop = X_set[:, 1].max() + 1, step = 0.01))\n",
    "plt.contourf(X1, X2, lr.predict(np.array([X1.ravel(), X2.ravel()]).T).reshape(X1.shape),\n",
    "             alpha = 0.75, cmap = ListedColormap(('red', 'green')))\n",
    "plt.xlim(X1.min(), X1.max())\n",
    "plt.ylim(X2.min(), X2.max())\n",
    "for i, j in enumerate(np.unique(y_set)):\n",
    "    plt.scatter(X_set[y_set == j, 0], X_set[y_set == j, 1],\n",
    "                c = ListedColormap(('red', 'green'))(i), label = j)\n",
    "plt.title('Logistic Regression (Test set)')\n",
    "plt.xlabel('Age')\n",
    "plt.ylabel('Estimated Salary')\n",
    "plt.legend()\n",
    "plt.show()"
   ]
  },
  {
   "cell_type": "code",
   "execution_count": 16,
   "metadata": {},
   "outputs": [],
   "source": [
    "# Устанавливаем необходимые пакеты Keras.\n",
    "import keras\n",
    "from keras.models import Sequential\n",
    "from keras.layers import Dense"
   ]
  },
  {
   "cell_type": "code",
   "execution_count": 17,
   "metadata": {},
   "outputs": [],
   "source": [
    "# Строим нейронную сеть прямой передачи сигнала. На входном слое 6 нейрона (усложнее). Используем функцию relu, которая позволит учесть наличие линейнносоти в исходных данных. На втором слое выбирем 1 нейрон используя сигмоидальную функцию. \n",
    "cnn = Sequential()\n",
    "cnn.add(Dense(units = 6,  activation = 'relu', input_dim = 2))\n",
    "cnn.add(Dense(units = 1,  activation = 'sigmoid'))\n",
    "cnn.compile(optimizer = 'adam', loss = 'binary_crossentropy', metrics = ['accuracy'])"
   ]
  },
  {
   "cell_type": "code",
   "execution_count": 18,
   "metadata": {},
   "outputs": [
    {
     "name": "stdout",
     "output_type": "stream",
     "text": [
      "Epoch 1/100\n",
      "40/40 [==============================] - 0s 486us/step - loss: 0.8143 - accuracy: 0.4859\n",
      "Epoch 2/100\n",
      "40/40 [==============================] - 0s 434us/step - loss: 0.7722 - accuracy: 0.4900\n",
      "Epoch 3/100\n",
      "40/40 [==============================] - 0s 434us/step - loss: 0.6927 - accuracy: 0.6127\n",
      "Epoch 4/100\n",
      "40/40 [==============================] - 0s 384us/step - loss: 0.6302 - accuracy: 0.6794\n",
      "Epoch 5/100\n",
      "40/40 [==============================] - 0s 384us/step - loss: 0.5947 - accuracy: 0.6536\n",
      "Epoch 6/100\n",
      "40/40 [==============================] - 0s 379us/step - loss: 0.5455 - accuracy: 0.7891\n",
      "Epoch 7/100\n",
      "40/40 [==============================] - 0s 384us/step - loss: 0.5120 - accuracy: 0.8371\n",
      "Epoch 8/100\n",
      "40/40 [==============================] - 0s 384us/step - loss: 0.4574 - accuracy: 0.8608\n",
      "Epoch 9/100\n",
      "40/40 [==============================] - 0s 408us/step - loss: 0.4651 - accuracy: 0.8303\n",
      "Epoch 10/100\n",
      "40/40 [==============================] - 0s 384us/step - loss: 0.4039 - accuracy: 0.8899\n",
      "Epoch 11/100\n",
      "40/40 [==============================] - 0s 409us/step - loss: 0.4008 - accuracy: 0.8584\n",
      "Epoch 12/100\n",
      "40/40 [==============================] - 0s 402us/step - loss: 0.3914 - accuracy: 0.8529\n",
      "Epoch 13/100\n",
      "40/40 [==============================] - 0s 358us/step - loss: 0.3684 - accuracy: 0.8819\n",
      "Epoch 14/100\n",
      "40/40 [==============================] - 0s 384us/step - loss: 0.3666 - accuracy: 0.8678\n",
      "Epoch 15/100\n",
      "40/40 [==============================] - 0s 358us/step - loss: 0.3673 - accuracy: 0.8525\n",
      "Epoch 16/100\n",
      "40/40 [==============================] - 0s 384us/step - loss: 0.3327 - accuracy: 0.8701\n",
      "Epoch 17/100\n",
      "40/40 [==============================] - 0s 408us/step - loss: 0.3497 - accuracy: 0.8738\n",
      "Epoch 18/100\n",
      "40/40 [==============================] - 0s 383us/step - loss: 0.3272 - accuracy: 0.8631\n",
      "Epoch 19/100\n",
      "40/40 [==============================] - 0s 383us/step - loss: 0.3317 - accuracy: 0.8663\n",
      "Epoch 20/100\n",
      "40/40 [==============================] - 0s 383us/step - loss: 0.3466 - accuracy: 0.8446\n",
      "Epoch 21/100\n",
      "40/40 [==============================] - 0s 384us/step - loss: 0.2949 - accuracy: 0.9032\n",
      "Epoch 22/100\n",
      "40/40 [==============================] - 0s 384us/step - loss: 0.2952 - accuracy: 0.8893\n",
      "Epoch 23/100\n",
      "40/40 [==============================] - 0s 383us/step - loss: 0.2913 - accuracy: 0.8908\n",
      "Epoch 24/100\n",
      "40/40 [==============================] - 0s 384us/step - loss: 0.3105 - accuracy: 0.8636\n",
      "Epoch 25/100\n",
      "40/40 [==============================] - 0s 376us/step - loss: 0.3289 - accuracy: 0.8706\n",
      "Epoch 26/100\n",
      "40/40 [==============================] - 0s 384us/step - loss: 0.2973 - accuracy: 0.8862\n",
      "Epoch 27/100\n",
      "40/40 [==============================] - 0s 358us/step - loss: 0.2889 - accuracy: 0.8986\n",
      "Epoch 28/100\n",
      "40/40 [==============================] - 0s 384us/step - loss: 0.2826 - accuracy: 0.8749\n",
      "Epoch 29/100\n",
      "40/40 [==============================] - 0s 359us/step - loss: 0.2739 - accuracy: 0.8757\n",
      "Epoch 30/100\n",
      "40/40 [==============================] - 0s 384us/step - loss: 0.2623 - accuracy: 0.9002\n",
      "Epoch 31/100\n",
      "40/40 [==============================] - 0s 383us/step - loss: 0.2632 - accuracy: 0.9040\n",
      "Epoch 32/100\n",
      "40/40 [==============================] - 0s 383us/step - loss: 0.3644 - accuracy: 0.8492\n",
      "Epoch 33/100\n",
      "40/40 [==============================] - 0s 384us/step - loss: 0.2861 - accuracy: 0.8811\n",
      "Epoch 34/100\n",
      "40/40 [==============================] - 0s 384us/step - loss: 0.2381 - accuracy: 0.9036\n",
      "Epoch 35/100\n",
      "40/40 [==============================] - 0s 383us/step - loss: 0.2667 - accuracy: 0.8934\n",
      "Epoch 36/100\n",
      "40/40 [==============================] - 0s 384us/step - loss: 0.2456 - accuracy: 0.9133\n",
      "Epoch 37/100\n",
      "40/40 [==============================] - 0s 409us/step - loss: 0.2482 - accuracy: 0.9176\n",
      "Epoch 38/100\n",
      "40/40 [==============================] - 0s 384us/step - loss: 0.2915 - accuracy: 0.8842\n",
      "Epoch 39/100\n",
      "40/40 [==============================] - 0s 410us/step - loss: 0.3191 - accuracy: 0.8754\n",
      "Epoch 40/100\n",
      "40/40 [==============================] - 0s 383us/step - loss: 0.2462 - accuracy: 0.9034\n",
      "Epoch 41/100\n",
      "40/40 [==============================] - 0s 409us/step - loss: 0.2577 - accuracy: 0.9142\n",
      "Epoch 42/100\n",
      "40/40 [==============================] - 0s 409us/step - loss: 0.2938 - accuracy: 0.8783\n",
      "Epoch 43/100\n",
      "40/40 [==============================] - 0s 435us/step - loss: 0.3069 - accuracy: 0.8713\n",
      "Epoch 44/100\n",
      "40/40 [==============================] - 0s 384us/step - loss: 0.2441 - accuracy: 0.9025\n",
      "Epoch 45/100\n",
      "40/40 [==============================] - 0s 384us/step - loss: 0.2722 - accuracy: 0.8840\n",
      "Epoch 46/100\n",
      "40/40 [==============================] - 0s 409us/step - loss: 0.2306 - accuracy: 0.9132\n",
      "Epoch 47/100\n",
      "40/40 [==============================] - 0s 384us/step - loss: 0.2706 - accuracy: 0.9094\n",
      "Epoch 48/100\n",
      "40/40 [==============================] - 0s 358us/step - loss: 0.2242 - accuracy: 0.9209\n",
      "Epoch 49/100\n",
      "40/40 [==============================] - 0s 384us/step - loss: 0.2872 - accuracy: 0.8921\n",
      "Epoch 50/100\n",
      "40/40 [==============================] - 0s 384us/step - loss: 0.3003 - accuracy: 0.8881\n",
      "Epoch 51/100\n",
      "40/40 [==============================] - 0s 359us/step - loss: 0.2284 - accuracy: 0.9026\n",
      "Epoch 52/100\n",
      "40/40 [==============================] - 0s 383us/step - loss: 0.3146 - accuracy: 0.8797\n",
      "Epoch 53/100\n",
      "40/40 [==============================] - 0s 383us/step - loss: 0.2265 - accuracy: 0.9195\n",
      "Epoch 54/100\n",
      "40/40 [==============================] - 0s 434us/step - loss: 0.2016 - accuracy: 0.9328\n",
      "Epoch 55/100\n",
      "40/40 [==============================] - 0s 358us/step - loss: 0.2772 - accuracy: 0.8901\n",
      "Epoch 56/100\n",
      "40/40 [==============================] - 0s 358us/step - loss: 0.2672 - accuracy: 0.8987\n",
      "Epoch 57/100\n",
      "40/40 [==============================] - 0s 383us/step - loss: 0.2115 - accuracy: 0.9165\n",
      "Epoch 58/100\n",
      "40/40 [==============================] - 0s 383us/step - loss: 0.2490 - accuracy: 0.9026\n",
      "Epoch 59/100\n",
      "40/40 [==============================] - 0s 409us/step - loss: 0.1901 - accuracy: 0.9451\n",
      "Epoch 60/100\n",
      "40/40 [==============================] - 0s 384us/step - loss: 0.2714 - accuracy: 0.9092\n",
      "Epoch 61/100\n",
      "40/40 [==============================] - 0s 384us/step - loss: 0.2747 - accuracy: 0.9079\n",
      "Epoch 62/100\n",
      "40/40 [==============================] - 0s 384us/step - loss: 0.2205 - accuracy: 0.9142\n",
      "Epoch 63/100\n",
      "40/40 [==============================] - 0s 358us/step - loss: 0.2313 - accuracy: 0.9215\n",
      "Epoch 64/100\n",
      "40/40 [==============================] - 0s 358us/step - loss: 0.2410 - accuracy: 0.9113\n",
      "Epoch 65/100\n",
      "40/40 [==============================] - 0s 409us/step - loss: 0.2336 - accuracy: 0.9154\n",
      "Epoch 66/100\n",
      "40/40 [==============================] - 0s 384us/step - loss: 0.2794 - accuracy: 0.9002\n",
      "Epoch 67/100\n",
      "40/40 [==============================] - 0s 409us/step - loss: 0.2400 - accuracy: 0.9058\n",
      "Epoch 68/100\n",
      "40/40 [==============================] - 0s 384us/step - loss: 0.2423 - accuracy: 0.9164\n",
      "Epoch 69/100\n",
      "40/40 [==============================] - 0s 357us/step - loss: 0.2430 - accuracy: 0.8972\n",
      "Epoch 70/100\n",
      "40/40 [==============================] - 0s 409us/step - loss: 0.2233 - accuracy: 0.9138\n",
      "Epoch 71/100\n",
      "40/40 [==============================] - 0s 384us/step - loss: 0.2408 - accuracy: 0.9096\n",
      "Epoch 72/100\n",
      "40/40 [==============================] - 0s 384us/step - loss: 0.1882 - accuracy: 0.9437\n",
      "Epoch 73/100\n",
      "40/40 [==============================] - 0s 358us/step - loss: 0.2162 - accuracy: 0.9242\n",
      "Epoch 74/100\n",
      "40/40 [==============================] - 0s 358us/step - loss: 0.2627 - accuracy: 0.9043\n",
      "Epoch 75/100\n",
      "40/40 [==============================] - 0s 384us/step - loss: 0.2147 - accuracy: 0.9292\n",
      "Epoch 76/100\n",
      "40/40 [==============================] - 0s 384us/step - loss: 0.2034 - accuracy: 0.9231\n",
      "Epoch 77/100\n",
      "40/40 [==============================] - 0s 384us/step - loss: 0.2314 - accuracy: 0.9139\n",
      "Epoch 78/100\n",
      "40/40 [==============================] - 0s 384us/step - loss: 0.2317 - accuracy: 0.9238\n",
      "Epoch 79/100\n",
      "40/40 [==============================] - 0s 409us/step - loss: 0.2247 - accuracy: 0.9091\n",
      "Epoch 80/100\n",
      "40/40 [==============================] - 0s 409us/step - loss: 0.2312 - accuracy: 0.9174\n",
      "Epoch 81/100\n"
     ]
    },
    {
     "name": "stdout",
     "output_type": "stream",
     "text": [
      "40/40 [==============================] - 0s 384us/step - loss: 0.2750 - accuracy: 0.9123\n",
      "Epoch 82/100\n",
      "40/40 [==============================] - 0s 384us/step - loss: 0.2037 - accuracy: 0.9290\n",
      "Epoch 83/100\n",
      "40/40 [==============================] - 0s 384us/step - loss: 0.3027 - accuracy: 0.8877\n",
      "Epoch 84/100\n",
      "40/40 [==============================] - 0s 435us/step - loss: 0.2580 - accuracy: 0.8881\n",
      "Epoch 85/100\n",
      "40/40 [==============================] - 0s 384us/step - loss: 0.2357 - accuracy: 0.9137\n",
      "Epoch 86/100\n",
      "40/40 [==============================] - 0s 383us/step - loss: 0.1953 - accuracy: 0.9268\n",
      "Epoch 87/100\n",
      "40/40 [==============================] - 0s 384us/step - loss: 0.2096 - accuracy: 0.9299\n",
      "Epoch 88/100\n",
      "40/40 [==============================] - 0s 358us/step - loss: 0.2204 - accuracy: 0.9127\n",
      "Epoch 89/100\n",
      "40/40 [==============================] - 0s 384us/step - loss: 0.2679 - accuracy: 0.8950\n",
      "Epoch 90/100\n",
      "40/40 [==============================] - 0s 358us/step - loss: 0.2702 - accuracy: 0.9128\n",
      "Epoch 91/100\n",
      "40/40 [==============================] - 0s 384us/step - loss: 0.2500 - accuracy: 0.8997\n",
      "Epoch 92/100\n",
      "40/40 [==============================] - 0s 384us/step - loss: 0.2752 - accuracy: 0.8816\n",
      "Epoch 93/100\n",
      "40/40 [==============================] - 0s 383us/step - loss: 0.2440 - accuracy: 0.9065\n",
      "Epoch 94/100\n",
      "40/40 [==============================] - 0s 383us/step - loss: 0.2201 - accuracy: 0.9173\n",
      "Epoch 95/100\n",
      "40/40 [==============================] - 0s 359us/step - loss: 0.2331 - accuracy: 0.9282\n",
      "Epoch 96/100\n",
      "40/40 [==============================] - 0s 383us/step - loss: 0.2263 - accuracy: 0.9206\n",
      "Epoch 97/100\n",
      "40/40 [==============================] - 0s 377us/step - loss: 0.2382 - accuracy: 0.9132\n",
      "Epoch 98/100\n",
      "40/40 [==============================] - 0s 384us/step - loss: 0.2295 - accuracy: 0.9234\n",
      "Epoch 99/100\n",
      "40/40 [==============================] - 0s 332us/step - loss: 0.1946 - accuracy: 0.9292\n",
      "Epoch 100/100\n",
      "40/40 [==============================] - 0s 384us/step - loss: 0.1873 - accuracy: 0.9250\n"
     ]
    },
    {
     "data": {
      "text/plain": [
       "<tensorflow.python.keras.callbacks.History at 0x27a7b8472e0>"
      ]
     },
     "execution_count": 18,
     "metadata": {},
     "output_type": "execute_result"
    }
   ],
   "source": [
    "# Обучаем нейронную сеть в течении 100 эпох.\n",
    "cnn.fit(X_train, y_train, epochs = 100, batch_size = 8)"
   ]
  },
  {
   "cell_type": "code",
   "execution_count": 19,
   "metadata": {},
   "outputs": [],
   "source": [
    "# Строим прогноз на тестовой выборке.\n",
    "y_pred = cnn.predict(X_test)\n",
    "y_pred = (y_pred > 0.5)"
   ]
  },
  {
   "cell_type": "code",
   "execution_count": 20,
   "metadata": {},
   "outputs": [
    {
     "name": "stdout",
     "output_type": "stream",
     "text": [
      "[[50  7]\n",
      " [ 2 21]]\n"
     ]
    }
   ],
   "source": [
    "# Строим таблицу сопряженности. Можно сделать вывод, что 2 положительных случая ложно определены как отрицательные и 7 отрицательный случай ложно определен как положительный.\n",
    "from sklearn.metrics import confusion_matrix\n",
    "cm = confusion_matrix(y_test, y_pred)\n",
    "print(cm)"
   ]
  },
  {
   "cell_type": "code",
   "execution_count": 21,
   "metadata": {},
   "outputs": [
    {
     "name": "stderr",
     "output_type": "stream",
     "text": [
      "*c* argument looks like a single numeric RGB or RGBA sequence, which should be avoided as value-mapping will have precedence in case its length matches with *x* & *y*.  Please use the *color* keyword-argument or provide a 2-D array with a single row if you intend to specify the same RGB or RGBA value for all points.\n",
      "*c* argument looks like a single numeric RGB or RGBA sequence, which should be avoided as value-mapping will have precedence in case its length matches with *x* & *y*.  Please use the *color* keyword-argument or provide a 2-D array with a single row if you intend to specify the same RGB or RGBA value for all points.\n"
     ]
    },
    {
     "data": {
      "image/png": "[encoded data removed]",
      "text/plain": [
       "<Figure size 432x288 with 1 Axes>"
      ]
     },
     "metadata": {
      "needs_background": "light"
     },
     "output_type": "display_data"
    }
   ],
   "source": [
    "# Строим область значений. Они отделяются не линейно.  \n",
    "from matplotlib.colors import ListedColormap\n",
    "X_set, y_set = X_test, y_test\n",
    "X1, X2 = np.meshgrid(np.arange(start = X_set[:, 0].min() - 1, stop = X_set[:, 0].max() + 1, step = 0.01),\n",
    "                     np.arange(start = X_set[:, 1].min() - 1, stop = X_set[:, 1].max() + 1, step = 0.01))\n",
    "plt.contourf(X1, X2, cnn.predict(np.array([X1.ravel(), X2.ravel()]).T).reshape(X1.shape),\n",
    "             alpha = 0.75, cmap = ListedColormap(('red', 'green')))\n",
    "plt.xlim(X1.min(), X1.max())\n",
    "plt.ylim(X2.min(), X2.max())\n",
    "for i, j in enumerate(np.unique(y_set)):\n",
    "    plt.scatter(X_set[y_set == j, 0], X_set[y_set == j, 1],\n",
    "                c = ListedColormap(('red', 'green'))(i), label = j)\n",
    "plt.title('NN (Test set)')\n",
    "plt.xlabel('Age')\n",
    "plt.ylabel('Estimated Salary')\n",
    "plt.legend()\n",
    "plt.show()"
   ]
  },
  {
   "cell_type": "code",
   "execution_count": 22,
   "metadata": {},
   "outputs": [],
   "source": [
    "# Выводы. Подводя итоги можно сказать, что исходная логистическая модель обладает хорошей точностью и качественностью и определяет 83% объектов верно. Так же стоит отметить, что позитивные и негативные значения отдлеяются линейно в случае логичстичекой регрессии и не линейно при построении нейронной сети. Эту линейность мы используем для построения нейронной сети. При использовании стандартных параметров мы получаем качество модели худше, но при этом сохраняется линейность отделения позитивных от негативных. Для улучшения качества модели было принято решение увеличить количество нейронов на первом слое с 2 до 6, что позволило немного улучшить качество модели в целом, однако разделение положительных от отрицательных более не линейно. "
   ]
  }
 ],
 "metadata": {
  "kernelspec": {
   "display_name": "Python 3",
   "language": "python",
   "name": "python3"
  },
  "language_info": {
   "codemirror_mode": {
    "name": "ipython",
    "version": 3
   },
   "file_extension": ".py",
   "mimetype": "text/x-python",
   "name": "python",
   "nbconvert_exporter": "python",
   "pygments_lexer": "ipython3",
   "version": "3.8.5"
  }
 },
 "nbformat": 4,
 "nbformat_minor": 4
}
